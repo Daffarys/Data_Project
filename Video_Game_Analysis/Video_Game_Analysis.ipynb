{
 "cells": [
  {
   "cell_type": "markdown",
   "metadata": {},
   "source": [
    "Nama: Muhammad Daffa Al Rasyid\n",
    "\n",
    "\n",
    "Link Dashboard: https://public.tableau.com/app/profile/muhammad.daffa.al.rasyid/viz/HTDS_M1_Muhammad_Daffa/Dashboard1?publish=yes"
   ]
  },
  {
   "cell_type": "markdown",
   "metadata": {},
   "source": [
    "# Latar Belakang "
   ]
  },
  {
   "cell_type": "markdown",
   "metadata": {},
   "source": [
    "Ketika Anda melihat video game, apa yang Anda pikirkan? Kebanyakan orang akan berasumsi dan bahkan mengaitkan video game dengan permainan anak-anak atau aktivitas untuk orang yang belum dewasa. Namun ternyata industri video game adalah industri multi-miliar dolar yang tersebar di seluruh dunia dan digunakan oleh banyak kelompok usia, tidak hanya anak-anak.\n",
    "\n",
    "Industri video game sendiri sudah ada sejak tahun 70-an dan masih bertahan hingga saat ini, apalagi di era konektivitas dan globalisasi yang selalu ada permintaan untuk lebih banyak game dengan inovasi baru. \n",
    "\n",
    "dengan itu munculah rumusan tujuan dari analisis ini yaitu:\n",
    "Untuk mengetahui faktor apa yang berkontribusi kesuksesan sebuah video game secara keseluruhan\n"
   ]
  },
  {
   "cell_type": "markdown",
   "metadata": {},
   "source": [
    "Adapun juga rumusan masalah yang di tentukan dalam analisis ini yaitu:\n",
    "\n",
    "1. Genre game apa yang merupakan genre dengan penghasilan terbanyak?\n",
    "2. Pada dekade apa dimana penjualan video game yang terbanyak?\n",
    "3. Daerah penjualan dimana yang memiliki peran dalam pendapatan game secara keseluruhan?\n",
    "4. Bagaimana perbandingan rata-rata penjualan antara daerah Jepang dengan sisa daerah selain Amerika utara dan Eropa?\n",
    "4. Platform game apa yang paling menghasilkan video game dengan pendapatan terbanyak?\n",
    "6. Bagaimana dengan central tendency dari platform game yang memiliki pendapatan terbanyak?\n",
    "5. Publisher mana yang memiliki pendapatan terbesar dari video game?"
   ]
  },
  {
   "cell_type": "markdown",
   "metadata": {},
   "source": [
    "# Data Loading"
   ]
  },
  {
   "cell_type": "markdown",
   "metadata": {},
   "source": [
    "Pada langkah pertama disini, hal yang pertama yang perlu dilakukan adalah meload data set yang didapatkan dari internet disini kasusnya adalah dari kaggle tentang list penjualan video game\n",
    "\n",
    "link: https://www.kaggle.com/datasets/ulrikthygepedersen/video-games-sales"
   ]
  },
  {
   "cell_type": "code",
   "execution_count": 2,
   "metadata": {},
   "outputs": [],
   "source": [
    "#Rumus untuk mengimport pandas\n",
    "import pandas as pd"
   ]
  },
  {
   "cell_type": "code",
   "execution_count": 3,
   "metadata": {},
   "outputs": [],
   "source": [
    "#Rumus untuk membaca file csv dari database yang telah di download\n",
    "df = pd.read_csv('video_games_sales.csv')"
   ]
  },
  {
   "cell_type": "code",
   "execution_count": 4,
   "metadata": {},
   "outputs": [
    {
     "data": {
      "text/html": [
       "<div>\n",
       "<style scoped>\n",
       "    .dataframe tbody tr th:only-of-type {\n",
       "        vertical-align: middle;\n",
       "    }\n",
       "\n",
       "    .dataframe tbody tr th {\n",
       "        vertical-align: top;\n",
       "    }\n",
       "\n",
       "    .dataframe thead th {\n",
       "        text-align: right;\n",
       "    }\n",
       "</style>\n",
       "<table border=\"1\" class=\"dataframe\">\n",
       "  <thead>\n",
       "    <tr style=\"text-align: right;\">\n",
       "      <th></th>\n",
       "      <th>rank</th>\n",
       "      <th>name</th>\n",
       "      <th>platform</th>\n",
       "      <th>year</th>\n",
       "      <th>genre</th>\n",
       "      <th>publisher</th>\n",
       "      <th>na_sales</th>\n",
       "      <th>eu_sales</th>\n",
       "      <th>jp_sales</th>\n",
       "      <th>other_sales</th>\n",
       "      <th>global_sales</th>\n",
       "    </tr>\n",
       "  </thead>\n",
       "  <tbody>\n",
       "    <tr>\n",
       "      <th>0</th>\n",
       "      <td>1</td>\n",
       "      <td>Wii Sports</td>\n",
       "      <td>Wii</td>\n",
       "      <td>2006.0</td>\n",
       "      <td>Sports</td>\n",
       "      <td>Nintendo</td>\n",
       "      <td>41.49</td>\n",
       "      <td>29.02</td>\n",
       "      <td>3.77</td>\n",
       "      <td>8.46</td>\n",
       "      <td>82.74</td>\n",
       "    </tr>\n",
       "    <tr>\n",
       "      <th>1</th>\n",
       "      <td>2</td>\n",
       "      <td>Super Mario Bros.</td>\n",
       "      <td>NES</td>\n",
       "      <td>1985.0</td>\n",
       "      <td>Platform</td>\n",
       "      <td>Nintendo</td>\n",
       "      <td>29.08</td>\n",
       "      <td>3.58</td>\n",
       "      <td>6.81</td>\n",
       "      <td>0.77</td>\n",
       "      <td>40.24</td>\n",
       "    </tr>\n",
       "    <tr>\n",
       "      <th>2</th>\n",
       "      <td>3</td>\n",
       "      <td>Mario Kart Wii</td>\n",
       "      <td>Wii</td>\n",
       "      <td>2008.0</td>\n",
       "      <td>Racing</td>\n",
       "      <td>Nintendo</td>\n",
       "      <td>15.85</td>\n",
       "      <td>12.88</td>\n",
       "      <td>3.79</td>\n",
       "      <td>3.31</td>\n",
       "      <td>35.82</td>\n",
       "    </tr>\n",
       "    <tr>\n",
       "      <th>3</th>\n",
       "      <td>4</td>\n",
       "      <td>Wii Sports Resort</td>\n",
       "      <td>Wii</td>\n",
       "      <td>2009.0</td>\n",
       "      <td>Sports</td>\n",
       "      <td>Nintendo</td>\n",
       "      <td>15.75</td>\n",
       "      <td>11.01</td>\n",
       "      <td>3.28</td>\n",
       "      <td>2.96</td>\n",
       "      <td>33.00</td>\n",
       "    </tr>\n",
       "    <tr>\n",
       "      <th>4</th>\n",
       "      <td>5</td>\n",
       "      <td>Pokemon Red/Pokemon Blue</td>\n",
       "      <td>GB</td>\n",
       "      <td>1996.0</td>\n",
       "      <td>Role-Playing</td>\n",
       "      <td>Nintendo</td>\n",
       "      <td>11.27</td>\n",
       "      <td>8.89</td>\n",
       "      <td>10.22</td>\n",
       "      <td>1.00</td>\n",
       "      <td>31.37</td>\n",
       "    </tr>\n",
       "    <tr>\n",
       "      <th>...</th>\n",
       "      <td>...</td>\n",
       "      <td>...</td>\n",
       "      <td>...</td>\n",
       "      <td>...</td>\n",
       "      <td>...</td>\n",
       "      <td>...</td>\n",
       "      <td>...</td>\n",
       "      <td>...</td>\n",
       "      <td>...</td>\n",
       "      <td>...</td>\n",
       "      <td>...</td>\n",
       "    </tr>\n",
       "    <tr>\n",
       "      <th>16593</th>\n",
       "      <td>16596</td>\n",
       "      <td>Woody Woodpecker in Crazy Castle 5</td>\n",
       "      <td>GBA</td>\n",
       "      <td>2002.0</td>\n",
       "      <td>Platform</td>\n",
       "      <td>Kemco</td>\n",
       "      <td>0.01</td>\n",
       "      <td>0.00</td>\n",
       "      <td>0.00</td>\n",
       "      <td>0.00</td>\n",
       "      <td>0.01</td>\n",
       "    </tr>\n",
       "    <tr>\n",
       "      <th>16594</th>\n",
       "      <td>16597</td>\n",
       "      <td>Men in Black II: Alien Escape</td>\n",
       "      <td>GC</td>\n",
       "      <td>2003.0</td>\n",
       "      <td>Shooter</td>\n",
       "      <td>Infogrames</td>\n",
       "      <td>0.01</td>\n",
       "      <td>0.00</td>\n",
       "      <td>0.00</td>\n",
       "      <td>0.00</td>\n",
       "      <td>0.01</td>\n",
       "    </tr>\n",
       "    <tr>\n",
       "      <th>16595</th>\n",
       "      <td>16598</td>\n",
       "      <td>SCORE International Baja 1000: The Official Game</td>\n",
       "      <td>PS2</td>\n",
       "      <td>2008.0</td>\n",
       "      <td>Racing</td>\n",
       "      <td>Activision</td>\n",
       "      <td>0.00</td>\n",
       "      <td>0.00</td>\n",
       "      <td>0.00</td>\n",
       "      <td>0.00</td>\n",
       "      <td>0.01</td>\n",
       "    </tr>\n",
       "    <tr>\n",
       "      <th>16596</th>\n",
       "      <td>16599</td>\n",
       "      <td>Know How 2</td>\n",
       "      <td>DS</td>\n",
       "      <td>2010.0</td>\n",
       "      <td>Puzzle</td>\n",
       "      <td>7G//AMES</td>\n",
       "      <td>0.00</td>\n",
       "      <td>0.01</td>\n",
       "      <td>0.00</td>\n",
       "      <td>0.00</td>\n",
       "      <td>0.01</td>\n",
       "    </tr>\n",
       "    <tr>\n",
       "      <th>16597</th>\n",
       "      <td>16600</td>\n",
       "      <td>Spirits &amp; Spells</td>\n",
       "      <td>GBA</td>\n",
       "      <td>2003.0</td>\n",
       "      <td>Platform</td>\n",
       "      <td>Wanadoo</td>\n",
       "      <td>0.01</td>\n",
       "      <td>0.00</td>\n",
       "      <td>0.00</td>\n",
       "      <td>0.00</td>\n",
       "      <td>0.01</td>\n",
       "    </tr>\n",
       "  </tbody>\n",
       "</table>\n",
       "<p>16598 rows × 11 columns</p>\n",
       "</div>"
      ],
      "text/plain": [
       "        rank                                              name platform  \\\n",
       "0          1                                        Wii Sports      Wii   \n",
       "1          2                                 Super Mario Bros.      NES   \n",
       "2          3                                    Mario Kart Wii      Wii   \n",
       "3          4                                 Wii Sports Resort      Wii   \n",
       "4          5                          Pokemon Red/Pokemon Blue       GB   \n",
       "...      ...                                               ...      ...   \n",
       "16593  16596                Woody Woodpecker in Crazy Castle 5      GBA   \n",
       "16594  16597                     Men in Black II: Alien Escape       GC   \n",
       "16595  16598  SCORE International Baja 1000: The Official Game      PS2   \n",
       "16596  16599                                        Know How 2       DS   \n",
       "16597  16600                                  Spirits & Spells      GBA   \n",
       "\n",
       "         year         genre   publisher  na_sales  eu_sales  jp_sales  \\\n",
       "0      2006.0        Sports    Nintendo     41.49     29.02      3.77   \n",
       "1      1985.0      Platform    Nintendo     29.08      3.58      6.81   \n",
       "2      2008.0        Racing    Nintendo     15.85     12.88      3.79   \n",
       "3      2009.0        Sports    Nintendo     15.75     11.01      3.28   \n",
       "4      1996.0  Role-Playing    Nintendo     11.27      8.89     10.22   \n",
       "...       ...           ...         ...       ...       ...       ...   \n",
       "16593  2002.0      Platform       Kemco      0.01      0.00      0.00   \n",
       "16594  2003.0       Shooter  Infogrames      0.01      0.00      0.00   \n",
       "16595  2008.0        Racing  Activision      0.00      0.00      0.00   \n",
       "16596  2010.0        Puzzle    7G//AMES      0.00      0.01      0.00   \n",
       "16597  2003.0      Platform     Wanadoo      0.01      0.00      0.00   \n",
       "\n",
       "       other_sales  global_sales  \n",
       "0             8.46         82.74  \n",
       "1             0.77         40.24  \n",
       "2             3.31         35.82  \n",
       "3             2.96         33.00  \n",
       "4             1.00         31.37  \n",
       "...            ...           ...  \n",
       "16593         0.00          0.01  \n",
       "16594         0.00          0.01  \n",
       "16595         0.00          0.01  \n",
       "16596         0.00          0.01  \n",
       "16597         0.00          0.01  \n",
       "\n",
       "[16598 rows x 11 columns]"
      ]
     },
     "execution_count": 4,
     "metadata": {},
     "output_type": "execute_result"
    }
   ],
   "source": [
    "df"
   ]
  },
  {
   "cell_type": "code",
   "execution_count": 5,
   "metadata": {},
   "outputs": [
    {
     "name": "stdout",
     "output_type": "stream",
     "text": [
      "<class 'pandas.core.frame.DataFrame'>\n",
      "RangeIndex: 16598 entries, 0 to 16597\n",
      "Data columns (total 11 columns):\n",
      " #   Column        Non-Null Count  Dtype  \n",
      "---  ------        --------------  -----  \n",
      " 0   rank          16598 non-null  int64  \n",
      " 1   name          16598 non-null  object \n",
      " 2   platform      16598 non-null  object \n",
      " 3   year          16327 non-null  float64\n",
      " 4   genre         16598 non-null  object \n",
      " 5   publisher     16540 non-null  object \n",
      " 6   na_sales      16598 non-null  float64\n",
      " 7   eu_sales      16598 non-null  float64\n",
      " 8   jp_sales      16598 non-null  float64\n",
      " 9   other_sales   16598 non-null  float64\n",
      " 10  global_sales  16598 non-null  float64\n",
      "dtypes: float64(6), int64(1), object(4)\n",
      "memory usage: 1.4+ MB\n"
     ]
    }
   ],
   "source": [
    "df.info()"
   ]
  },
  {
   "cell_type": "markdown",
   "metadata": {},
   "source": [
    "Dari data tersebut terdapat missing values seperti tidak adanya tahun di beberapa entries serta tidak ada nya publisher di beberapa entries. Lalu di bagian tahun sebaiknya diganti type data nya menjadi integer karena hanya menampilkan tahun"
   ]
  },
  {
   "cell_type": "markdown",
   "metadata": {},
   "source": [
    "# Data Cleaning"
   ]
  },
  {
   "cell_type": "markdown",
   "metadata": {},
   "source": [
    "Dalam langkah berikutnya adalah proses untuk melakukan data cleaning, dimana disini kita akan membersihkan data dari error-error yang ada"
   ]
  },
  {
   "cell_type": "code",
   "execution_count": 6,
   "metadata": {},
   "outputs": [
    {
     "data": {
      "text/plain": [
       "rank              0\n",
       "name              0\n",
       "platform          0\n",
       "year            271\n",
       "genre             0\n",
       "publisher        58\n",
       "na_sales          0\n",
       "eu_sales          0\n",
       "jp_sales          0\n",
       "other_sales       0\n",
       "global_sales      0\n",
       "dtype: int64"
      ]
     },
     "execution_count": 6,
     "metadata": {},
     "output_type": "execute_result"
    }
   ],
   "source": [
    "#Rumus untuk mengetahui jumlah data yang null atau missing value\n",
    "df.isnull().sum()"
   ]
  },
  {
   "cell_type": "markdown",
   "metadata": {},
   "source": [
    "Dari hasil perhtiungan diatas bisa dilihat data yang missing value atau hilang merupakan data dari column year dan publisher, hal ini terjadi karena adanya human error yang mengakibatkan ketidak lengkapan data. Karena data tersebut hanya ada sebanyak 271 dari 16598 entries maka langkah yang diambil adalah untuk mendrop entry yang memiliki data hilang"
   ]
  },
  {
   "cell_type": "code",
   "execution_count": 7,
   "metadata": {},
   "outputs": [],
   "source": [
    "#Rumus membuat dataframe baru yang tidak ada missing values nya\n",
    "df_2 = df.dropna()"
   ]
  },
  {
   "cell_type": "code",
   "execution_count": 8,
   "metadata": {},
   "outputs": [
    {
     "name": "stdout",
     "output_type": "stream",
     "text": [
      "<class 'pandas.core.frame.DataFrame'>\n",
      "Index: 16291 entries, 0 to 16597\n",
      "Data columns (total 11 columns):\n",
      " #   Column        Non-Null Count  Dtype  \n",
      "---  ------        --------------  -----  \n",
      " 0   rank          16291 non-null  int64  \n",
      " 1   name          16291 non-null  object \n",
      " 2   platform      16291 non-null  object \n",
      " 3   year          16291 non-null  float64\n",
      " 4   genre         16291 non-null  object \n",
      " 5   publisher     16291 non-null  object \n",
      " 6   na_sales      16291 non-null  float64\n",
      " 7   eu_sales      16291 non-null  float64\n",
      " 8   jp_sales      16291 non-null  float64\n",
      " 9   other_sales   16291 non-null  float64\n",
      " 10  global_sales  16291 non-null  float64\n",
      "dtypes: float64(6), int64(1), object(4)\n",
      "memory usage: 1.5+ MB\n"
     ]
    }
   ],
   "source": [
    "df_2.info()"
   ]
  },
  {
   "cell_type": "markdown",
   "metadata": {},
   "source": [
    "Setelah itu jika dilihat type data tahun atau year masih dalam bentuk float maka dari itu perlu diganti menjadi integer"
   ]
  },
  {
   "cell_type": "code",
   "execution_count": 9,
   "metadata": {},
   "outputs": [
    {
     "name": "stderr",
     "output_type": "stream",
     "text": [
      "C:\\Users\\daffa\\AppData\\Local\\Temp\\ipykernel_1344\\2259918458.py:2: SettingWithCopyWarning: \n",
      "A value is trying to be set on a copy of a slice from a DataFrame.\n",
      "Try using .loc[row_indexer,col_indexer] = value instead\n",
      "\n",
      "See the caveats in the documentation: https://pandas.pydata.org/pandas-docs/stable/user_guide/indexing.html#returning-a-view-versus-a-copy\n",
      "  df_2['year']= df_2['year'].astype(int)\n"
     ]
    }
   ],
   "source": [
    "#Rumus untuk mengubah tipe data tahun menjadi integer\n",
    "df_2['year']= df_2['year'].astype(int)"
   ]
  },
  {
   "cell_type": "code",
   "execution_count": 10,
   "metadata": {},
   "outputs": [
    {
     "data": {
      "text/html": [
       "<div>\n",
       "<style scoped>\n",
       "    .dataframe tbody tr th:only-of-type {\n",
       "        vertical-align: middle;\n",
       "    }\n",
       "\n",
       "    .dataframe tbody tr th {\n",
       "        vertical-align: top;\n",
       "    }\n",
       "\n",
       "    .dataframe thead th {\n",
       "        text-align: right;\n",
       "    }\n",
       "</style>\n",
       "<table border=\"1\" class=\"dataframe\">\n",
       "  <thead>\n",
       "    <tr style=\"text-align: right;\">\n",
       "      <th></th>\n",
       "      <th>rank</th>\n",
       "      <th>name</th>\n",
       "      <th>platform</th>\n",
       "      <th>year</th>\n",
       "      <th>genre</th>\n",
       "      <th>publisher</th>\n",
       "      <th>na_sales</th>\n",
       "      <th>eu_sales</th>\n",
       "      <th>jp_sales</th>\n",
       "      <th>other_sales</th>\n",
       "      <th>global_sales</th>\n",
       "    </tr>\n",
       "  </thead>\n",
       "  <tbody>\n",
       "    <tr>\n",
       "      <th>0</th>\n",
       "      <td>1</td>\n",
       "      <td>Wii Sports</td>\n",
       "      <td>Wii</td>\n",
       "      <td>2006</td>\n",
       "      <td>Sports</td>\n",
       "      <td>Nintendo</td>\n",
       "      <td>41.49</td>\n",
       "      <td>29.02</td>\n",
       "      <td>3.77</td>\n",
       "      <td>8.46</td>\n",
       "      <td>82.74</td>\n",
       "    </tr>\n",
       "    <tr>\n",
       "      <th>1</th>\n",
       "      <td>2</td>\n",
       "      <td>Super Mario Bros.</td>\n",
       "      <td>NES</td>\n",
       "      <td>1985</td>\n",
       "      <td>Platform</td>\n",
       "      <td>Nintendo</td>\n",
       "      <td>29.08</td>\n",
       "      <td>3.58</td>\n",
       "      <td>6.81</td>\n",
       "      <td>0.77</td>\n",
       "      <td>40.24</td>\n",
       "    </tr>\n",
       "    <tr>\n",
       "      <th>2</th>\n",
       "      <td>3</td>\n",
       "      <td>Mario Kart Wii</td>\n",
       "      <td>Wii</td>\n",
       "      <td>2008</td>\n",
       "      <td>Racing</td>\n",
       "      <td>Nintendo</td>\n",
       "      <td>15.85</td>\n",
       "      <td>12.88</td>\n",
       "      <td>3.79</td>\n",
       "      <td>3.31</td>\n",
       "      <td>35.82</td>\n",
       "    </tr>\n",
       "    <tr>\n",
       "      <th>3</th>\n",
       "      <td>4</td>\n",
       "      <td>Wii Sports Resort</td>\n",
       "      <td>Wii</td>\n",
       "      <td>2009</td>\n",
       "      <td>Sports</td>\n",
       "      <td>Nintendo</td>\n",
       "      <td>15.75</td>\n",
       "      <td>11.01</td>\n",
       "      <td>3.28</td>\n",
       "      <td>2.96</td>\n",
       "      <td>33.00</td>\n",
       "    </tr>\n",
       "    <tr>\n",
       "      <th>4</th>\n",
       "      <td>5</td>\n",
       "      <td>Pokemon Red/Pokemon Blue</td>\n",
       "      <td>GB</td>\n",
       "      <td>1996</td>\n",
       "      <td>Role-Playing</td>\n",
       "      <td>Nintendo</td>\n",
       "      <td>11.27</td>\n",
       "      <td>8.89</td>\n",
       "      <td>10.22</td>\n",
       "      <td>1.00</td>\n",
       "      <td>31.37</td>\n",
       "    </tr>\n",
       "    <tr>\n",
       "      <th>...</th>\n",
       "      <td>...</td>\n",
       "      <td>...</td>\n",
       "      <td>...</td>\n",
       "      <td>...</td>\n",
       "      <td>...</td>\n",
       "      <td>...</td>\n",
       "      <td>...</td>\n",
       "      <td>...</td>\n",
       "      <td>...</td>\n",
       "      <td>...</td>\n",
       "      <td>...</td>\n",
       "    </tr>\n",
       "    <tr>\n",
       "      <th>16593</th>\n",
       "      <td>16596</td>\n",
       "      <td>Woody Woodpecker in Crazy Castle 5</td>\n",
       "      <td>GBA</td>\n",
       "      <td>2002</td>\n",
       "      <td>Platform</td>\n",
       "      <td>Kemco</td>\n",
       "      <td>0.01</td>\n",
       "      <td>0.00</td>\n",
       "      <td>0.00</td>\n",
       "      <td>0.00</td>\n",
       "      <td>0.01</td>\n",
       "    </tr>\n",
       "    <tr>\n",
       "      <th>16594</th>\n",
       "      <td>16597</td>\n",
       "      <td>Men in Black II: Alien Escape</td>\n",
       "      <td>GC</td>\n",
       "      <td>2003</td>\n",
       "      <td>Shooter</td>\n",
       "      <td>Infogrames</td>\n",
       "      <td>0.01</td>\n",
       "      <td>0.00</td>\n",
       "      <td>0.00</td>\n",
       "      <td>0.00</td>\n",
       "      <td>0.01</td>\n",
       "    </tr>\n",
       "    <tr>\n",
       "      <th>16595</th>\n",
       "      <td>16598</td>\n",
       "      <td>SCORE International Baja 1000: The Official Game</td>\n",
       "      <td>PS2</td>\n",
       "      <td>2008</td>\n",
       "      <td>Racing</td>\n",
       "      <td>Activision</td>\n",
       "      <td>0.00</td>\n",
       "      <td>0.00</td>\n",
       "      <td>0.00</td>\n",
       "      <td>0.00</td>\n",
       "      <td>0.01</td>\n",
       "    </tr>\n",
       "    <tr>\n",
       "      <th>16596</th>\n",
       "      <td>16599</td>\n",
       "      <td>Know How 2</td>\n",
       "      <td>DS</td>\n",
       "      <td>2010</td>\n",
       "      <td>Puzzle</td>\n",
       "      <td>7G//AMES</td>\n",
       "      <td>0.00</td>\n",
       "      <td>0.01</td>\n",
       "      <td>0.00</td>\n",
       "      <td>0.00</td>\n",
       "      <td>0.01</td>\n",
       "    </tr>\n",
       "    <tr>\n",
       "      <th>16597</th>\n",
       "      <td>16600</td>\n",
       "      <td>Spirits &amp; Spells</td>\n",
       "      <td>GBA</td>\n",
       "      <td>2003</td>\n",
       "      <td>Platform</td>\n",
       "      <td>Wanadoo</td>\n",
       "      <td>0.01</td>\n",
       "      <td>0.00</td>\n",
       "      <td>0.00</td>\n",
       "      <td>0.00</td>\n",
       "      <td>0.01</td>\n",
       "    </tr>\n",
       "  </tbody>\n",
       "</table>\n",
       "<p>16291 rows × 11 columns</p>\n",
       "</div>"
      ],
      "text/plain": [
       "        rank                                              name platform  year  \\\n",
       "0          1                                        Wii Sports      Wii  2006   \n",
       "1          2                                 Super Mario Bros.      NES  1985   \n",
       "2          3                                    Mario Kart Wii      Wii  2008   \n",
       "3          4                                 Wii Sports Resort      Wii  2009   \n",
       "4          5                          Pokemon Red/Pokemon Blue       GB  1996   \n",
       "...      ...                                               ...      ...   ...   \n",
       "16593  16596                Woody Woodpecker in Crazy Castle 5      GBA  2002   \n",
       "16594  16597                     Men in Black II: Alien Escape       GC  2003   \n",
       "16595  16598  SCORE International Baja 1000: The Official Game      PS2  2008   \n",
       "16596  16599                                        Know How 2       DS  2010   \n",
       "16597  16600                                  Spirits & Spells      GBA  2003   \n",
       "\n",
       "              genre   publisher  na_sales  eu_sales  jp_sales  other_sales  \\\n",
       "0            Sports    Nintendo     41.49     29.02      3.77         8.46   \n",
       "1          Platform    Nintendo     29.08      3.58      6.81         0.77   \n",
       "2            Racing    Nintendo     15.85     12.88      3.79         3.31   \n",
       "3            Sports    Nintendo     15.75     11.01      3.28         2.96   \n",
       "4      Role-Playing    Nintendo     11.27      8.89     10.22         1.00   \n",
       "...             ...         ...       ...       ...       ...          ...   \n",
       "16593      Platform       Kemco      0.01      0.00      0.00         0.00   \n",
       "16594       Shooter  Infogrames      0.01      0.00      0.00         0.00   \n",
       "16595        Racing  Activision      0.00      0.00      0.00         0.00   \n",
       "16596        Puzzle    7G//AMES      0.00      0.01      0.00         0.00   \n",
       "16597      Platform     Wanadoo      0.01      0.00      0.00         0.00   \n",
       "\n",
       "       global_sales  \n",
       "0             82.74  \n",
       "1             40.24  \n",
       "2             35.82  \n",
       "3             33.00  \n",
       "4             31.37  \n",
       "...             ...  \n",
       "16593          0.01  \n",
       "16594          0.01  \n",
       "16595          0.01  \n",
       "16596          0.01  \n",
       "16597          0.01  \n",
       "\n",
       "[16291 rows x 11 columns]"
      ]
     },
     "execution_count": 10,
     "metadata": {},
     "output_type": "execute_result"
    }
   ],
   "source": [
    "df_2"
   ]
  },
  {
   "cell_type": "markdown",
   "metadata": {},
   "source": [
    "Setelah data dibersihkan maka data di export untuk diubah menjadi file csv agar bisa dibuatkan visualisasinya"
   ]
  },
  {
   "cell_type": "code",
   "execution_count": 11,
   "metadata": {},
   "outputs": [],
   "source": [
    "#Rumus untuk mengexport data menjadi format csv\n",
    "df_2.to_csv('Data Penjualan game clean.csv')"
   ]
  },
  {
   "cell_type": "markdown",
   "metadata": {},
   "source": [
    "# Analisis dan Perhitungan"
   ]
  },
  {
   "cell_type": "markdown",
   "metadata": {},
   "source": [
    "Untuk menjawab pertanyaan nomor 1 tentang genre perlu diketahui genre-genre apa saja yang berada dalam database"
   ]
  },
  {
   "cell_type": "code",
   "execution_count": 12,
   "metadata": {},
   "outputs": [
    {
     "data": {
      "text/plain": [
       "array(['Sports', 'Platform', 'Racing', 'Role-Playing', 'Puzzle', 'Misc',\n",
       "       'Shooter', 'Simulation', 'Action', 'Fighting', 'Adventure',\n",
       "       'Strategy'], dtype=object)"
      ]
     },
     "execution_count": 12,
     "metadata": {},
     "output_type": "execute_result"
    }
   ],
   "source": [
    "#Rumus untuk mengetahui unique values berada dalam column genre\n",
    "df_2['genre'].unique()"
   ]
  },
  {
   "cell_type": "code",
   "execution_count": 13,
   "metadata": {},
   "outputs": [],
   "source": [
    "#Rumus untuk memisahkan data berdasarkan genre\n",
    "df_genre_sports = df_2[df_2['genre'] == 'Sports'] \n",
    "df_genre_Platform = df_2[df_2['genre'] == 'Platform'] \n",
    "df_genre_Racing = df_2[df_2['genre'] == 'Racing'] \n",
    "df_genre_Role_Playing = df_2[df_2['genre'] == 'Role-Playing'] \n",
    "df_genre_Puzzle = df_2[df_2['genre'] == 'Puzzle'] \n",
    "df_genre_Shooter = df_2[df_2['genre'] == 'Shooter']\n",
    "df_genre_Simulation = df_2[df_2['genre'] == 'Simulation'] \n",
    "df_genre_Action = df_2[df_2['genre'] == 'Action'] \n",
    "df_genre_Fighting = df_2[df_2['genre'] == 'Fighting'] \n",
    "df_genre_Adventure = df_2[df_2['genre'] == 'Adventure'] \n",
    "df_genre_Strategy = df_2[df_2['genre'] == 'Strategy']  "
   ]
  },
  {
   "cell_type": "code",
   "execution_count": 14,
   "metadata": {},
   "outputs": [],
   "source": [
    "#Rumus untuk menghitung total penjualan dari sebuah genre game\n",
    "total_sales_sports = df_genre_sports['global_sales'].sum()\n",
    "total_sales_1 = df_genre_Platform['global_sales'].sum()\n",
    "total_sales_2 = df_genre_Racing['global_sales'].sum()\n",
    "total_sales_3 = df_genre_Role_Playing['global_sales'].sum()\n",
    "total_sales_4 = df_genre_Puzzle['global_sales'].sum()\n",
    "total_sales_5 = df_genre_Shooter['global_sales'].sum()\n",
    "total_sales_6 = df_genre_Simulation['global_sales'].sum()\n",
    "total_sales_7 = df_genre_Action['global_sales'].sum()\n",
    "total_sales_8 = df_genre_Fighting['global_sales'].sum()\n",
    "total_sales_9 = df_genre_Adventure['global_sales'].sum()\n",
    "total_sales_10 = df_genre_Strategy['global_sales'].sum()"
   ]
  },
  {
   "cell_type": "code",
   "execution_count": 15,
   "metadata": {},
   "outputs": [
    {
     "name": "stdout",
     "output_type": "stream",
     "text": [
      "Total penjualan genre sports: 1309.2400000000002\n",
      "Total penjualan genre Platform: 829.13\n",
      "Total penjualan genre Racing: 726.7600000000001\n",
      "Total penjualan genre Role playing: 923.83\n",
      "Total penjualan genre Puzzle: 242.21\n",
      "Total penjualan genre Shooter: 1026.2\n",
      "Total penjualan genre Simulation: 389.98\n",
      "Total penjualan genre Action: 1722.84\n",
      "Total penjualan genre Fighting: 444.04999999999995\n",
      "Total penjualan genre Adventure: 234.59\n",
      "Total penjualan genre strategy: 173.27\n"
     ]
    }
   ],
   "source": [
    "#Rumus untuk menampilkan total penjualan berdasarkan genre\n",
    "print(f'Total penjualan genre sports: {total_sales_sports}')\n",
    "print(f'Total penjualan genre Platform: {total_sales_1}')\n",
    "print(f'Total penjualan genre Racing: {total_sales_2}')\n",
    "print(f'Total penjualan genre Role playing: {total_sales_3}')\n",
    "print(f'Total penjualan genre Puzzle: {total_sales_4}')\n",
    "print(f'Total penjualan genre Shooter: {total_sales_5}')\n",
    "print(f'Total penjualan genre Simulation: {total_sales_6}')\n",
    "print(f'Total penjualan genre Action: {total_sales_7}')\n",
    "print(f'Total penjualan genre Fighting: {total_sales_8}')\n",
    "print(f'Total penjualan genre Adventure: {total_sales_9}')\n",
    "print(f'Total penjualan genre strategy: {total_sales_10}')"
   ]
  },
  {
   "cell_type": "markdown",
   "metadata": {},
   "source": [
    "Dari hasil ini bisa disimpulkan bahwa genre terlaku dalam industry game ialah genre Action, lalu dilanjutkan oleh Sports, dilanjutkan lagi oleh shooter, dsb."
   ]
  },
  {
   "cell_type": "markdown",
   "metadata": {},
   "source": [
    "Untuk menjawab pertanyaan nomor 2, perlu dilakukan untuk membuat column baru yaitu colum dekade"
   ]
  },
  {
   "cell_type": "code",
   "execution_count": 16,
   "metadata": {},
   "outputs": [
    {
     "name": "stderr",
     "output_type": "stream",
     "text": [
      "C:\\Users\\daffa\\AppData\\Local\\Temp\\ipykernel_1344\\3851726704.py:2: SettingWithCopyWarning: \n",
      "A value is trying to be set on a copy of a slice from a DataFrame.\n",
      "Try using .loc[row_indexer,col_indexer] = value instead\n",
      "\n",
      "See the caveats in the documentation: https://pandas.pydata.org/pandas-docs/stable/user_guide/indexing.html#returning-a-view-versus-a-copy\n",
      "  df_2['Decade']= (df_2['year'] // 10) * 10\n"
     ]
    }
   ],
   "source": [
    "#Rumus untuk membuat column baru dekade\n",
    "df_2['Decade']= (df_2['year'] // 10) * 10"
   ]
  },
  {
   "cell_type": "code",
   "execution_count": 17,
   "metadata": {},
   "outputs": [],
   "source": [
    "#Rumus untuk melakukan pengelompokan data sales berdasarkan column dekade\n",
    "sales_by_decade = df_2.groupby('Decade')['global_sales'].sum()"
   ]
  },
  {
   "cell_type": "code",
   "execution_count": 18,
   "metadata": {},
   "outputs": [
    {
     "name": "stdout",
     "output_type": "stream",
     "text": [
      "List penjualan berdasarkan dekade: Decade\n",
      "1980     376.58\n",
      "1990    1278.91\n",
      "2000    4636.08\n",
      "2010    2520.11\n",
      "2020       0.29\n",
      "Name: global_sales, dtype: float64\n"
     ]
    }
   ],
   "source": [
    "#Rumus untuk menampilkan total penjualan per dekade\n",
    "print(f\"List penjualan berdasarkan dekade: {sales_by_decade}\")"
   ]
  },
  {
   "cell_type": "markdown",
   "metadata": {},
   "source": [
    "Dari hasil data ini, bisa dilihat bahwa penjualan terbanyak berada dalam dekade 2000an lalu dilanjutkan oleh 2010"
   ]
  },
  {
   "cell_type": "markdown",
   "metadata": {},
   "source": [
    "Untuk menjawab pertanyaan nomor 3, perlu dilakukan sebuah penjumlahan dari total penjualan masing-masing region yang ada dalam databse"
   ]
  },
  {
   "cell_type": "code",
   "execution_count": 19,
   "metadata": {},
   "outputs": [],
   "source": [
    "#Rumus untuk membuat variabel baru yaitu total penjualan semua negara\n",
    "Total_sales_per_region = df_2[['na_sales', 'eu_sales', 'jp_sales','other_sales']].sum()\n",
    "#Rumus untuk menghitung proporsi penjualan masing-masing region terhadap penjualan global\n",
    "Proportion_of_sales_Region = Total_sales_per_region / Total_sales_per_region.sum()"
   ]
  },
  {
   "cell_type": "code",
   "execution_count": 20,
   "metadata": {},
   "outputs": [
    {
     "data": {
      "text/plain": [
       "na_sales       4327.65\n",
       "eu_sales       2406.69\n",
       "jp_sales       1284.27\n",
       "other_sales     788.91\n",
       "dtype: float64"
      ]
     },
     "execution_count": 20,
     "metadata": {},
     "output_type": "execute_result"
    }
   ],
   "source": [
    "#Rumus menampilkan total penjualan per region\n",
    "Total_sales_per_region"
   ]
  },
  {
   "cell_type": "code",
   "execution_count": 21,
   "metadata": {},
   "outputs": [
    {
     "data": {
      "text/plain": [
       "na_sales       0.491359\n",
       "eu_sales       0.273254\n",
       "jp_sales       0.145815\n",
       "other_sales    0.089572\n",
       "dtype: float64"
      ]
     },
     "execution_count": 21,
     "metadata": {},
     "output_type": "execute_result"
    }
   ],
   "source": [
    "#Rumus untuk menentukan proporsi penjualan per region\n",
    "Proportion_of_sales_Region"
   ]
  },
  {
   "cell_type": "markdown",
   "metadata": {},
   "source": [
    "Dari hasil data ini, bisa dilihat bahwa Benua Amerika utara merupakan region dengan penyumbang terbesar terhadap penjualan keseluruhan"
   ]
  },
  {
   "cell_type": "markdown",
   "metadata": {},
   "source": [
    "Bagian selanjutnya bertujuan untuk menjawab pertanyaan tentang perbandingan rata-rata penjualan antara jepang dan daerah selain eropa dengan amerika utara maka daeri itu dibuat lah 2 hypothesis yaitu:\n",
    "\n",
    "H0:rata-rata penjualan di jepang sama dengan rata-rata penjualan di daerah selain amerika utara dan eropa\n",
    "\n",
    "H1:rata-rata penjualan di jepang tidak sama dengan rata-rata penjualan di daerah selain amerika utara dan eropa\n",
    "Lalu untuk menjawab pertanyaan selanjutnya perlu untuk mengimport statistic terlebih dahulu baru bisa menentukan hypothesis yang benar"
   ]
  },
  {
   "cell_type": "code",
   "execution_count": 22,
   "metadata": {},
   "outputs": [],
   "source": [
    "#Rumus untuk mengimport stats\n",
    "from scipy import stats\n",
    "from scipy.stats import ttest_ind\n"
   ]
  },
  {
   "cell_type": "code",
   "execution_count": 23,
   "metadata": {},
   "outputs": [
    {
     "name": "stdout",
     "output_type": "stream",
     "text": [
      "T-Statistic: 10.625971141961578\n",
      "P-value: 2.4921490442616333e-26\n"
     ]
    }
   ],
   "source": [
    "#Rumus untuk menghitung P value dan T statistic\n",
    "t_stat, p_val = stats.ttest_ind(df_2['jp_sales'],df_2['other_sales'])\n",
    "print('T-Statistic:',t_stat)\n",
    "print('P-value:',p_val) "
   ]
  },
  {
   "cell_type": "code",
   "execution_count": 29,
   "metadata": {},
   "outputs": [],
   "source": [
    "import matplotlib.pyplot as plt"
   ]
  },
  {
   "cell_type": "code",
   "execution_count": 35,
   "metadata": {},
   "outputs": [
    {
     "data": {
      "image/png": "[encoded data removed]",
      "text/plain": [
       "<Figure size 800x600 with 1 Axes>"
      ]
     },
     "metadata": {},
     "output_type": "display_data"
    }
   ],
   "source": [
    "plt.figure(figsize=(8, 6), facecolor = 'lightblue')\n",
    "plt.bar(['T-Statistic', 'P-Value'], [t_stat, p_val], color=['blue', 'green'])\n",
    "plt.title('Hasil uji Hypothesis antara penjualan jepang dengan daerah selain Amerika dan Eropa')\n",
    "plt.ylabel('Nilai')\n",
    "plt.show()"
   ]
  },
  {
   "cell_type": "markdown",
   "metadata": {},
   "source": [
    "Berdasarkan hasil tersebut nilai t-statistic adalah 10.626 dimana itu adalah nilai positif yang menunjukkan bahwa rata-rata penjualan di Jepang cenderung lebih tinggi daripada rata-rata penjualan di wilayah lainnya. Lalu Nilai Probabilitas dari data ini sangat kecil atau dibawah 0.05 dimana menunjukan adanya perbedaan signifikan antara penjualan di jepang dengan penjualan dari wilayah selain amerika utara dan eropa maka dari itu H0 ditolak dan H1 diterima"
   ]
  },
  {
   "cell_type": "markdown",
   "metadata": {},
   "source": [
    "Untuk menjawab pertanyaan selanjutnya perlu dilakukan grouping data penjualan dengan platform yang tersedia"
   ]
  },
  {
   "cell_type": "code",
   "execution_count": 24,
   "metadata": {},
   "outputs": [],
   "source": [
    "#Rumus untuk melakukan pengelompokan data di platform\n",
    "sales_by_platform = df_2.groupby('platform')['global_sales'].sum()"
   ]
  },
  {
   "cell_type": "code",
   "execution_count": 25,
   "metadata": {},
   "outputs": [
    {
     "data": {
      "text/plain": [
       "platform\n",
       "PS2     1233.46\n",
       "X360     969.60\n",
       "PS3      949.35\n",
       "Wii      909.81\n",
       "DS       818.91\n",
       "PS       727.39\n",
       "GBA      305.62\n",
       "PSP      291.71\n",
       "PS4      278.10\n",
       "PC       254.70\n",
       "GB       254.42\n",
       "XB       252.09\n",
       "NES      251.07\n",
       "3DS      246.27\n",
       "N64      218.21\n",
       "SNES     200.05\n",
       "GC       197.14\n",
       "XOne     141.06\n",
       "2600      86.57\n",
       "WiiU      81.86\n",
       "PSV       61.60\n",
       "SAT       33.59\n",
       "GEN       28.36\n",
       "DC        15.97\n",
       "SCD        1.87\n",
       "NG         1.44\n",
       "WS         1.42\n",
       "TG16       0.16\n",
       "3DO        0.10\n",
       "GG         0.04\n",
       "PCFX       0.03\n",
       "Name: global_sales, dtype: float64"
      ]
     },
     "execution_count": 25,
     "metadata": {},
     "output_type": "execute_result"
    }
   ],
   "source": [
    "#Rumus untuk menampilkan platform dengan penjualan game terbanyak\n",
    "sales_by_platform.sort_values(ascending= False)"
   ]
  },
  {
   "cell_type": "markdown",
   "metadata": {},
   "source": [
    "Dari hasil data tersebut bisa disimpulkan bahwa PS2 merupakan platform dengan penjualan game terbanyak"
   ]
  },
  {
   "cell_type": "markdown",
   "metadata": {},
   "source": [
    "Untuk menjawab pertanyaan tersebut, perlu dilakukan perhitungan statistik central tendency seperti mean, modus, median pada platform dengan penujualan terbanyak yaitu PS2"
   ]
  },
  {
   "cell_type": "code",
   "execution_count": 26,
   "metadata": {},
   "outputs": [
    {
     "name": "stdout",
     "output_type": "stream",
     "text": [
      "Rata-Rata Penjualan Game PS2: 0.5799059708509638\n",
      "Median Penjualan Game PS2: 0.23\n",
      "Modus Penjualan Game PS2: 0    0.02\n",
      "Name: global_sales, dtype: float64\n"
     ]
    }
   ],
   "source": [
    "#Rumus untuk menghitung rata-rata penjualan game pada platform PS2\n",
    "mean_ps2 = df_2[df_2['platform'] == 'PS2']['global_sales'].mean()\n",
    "print(\"Rata-Rata Penjualan Game PS2:\", mean_ps2)\n",
    "\n",
    "#Rumus untuk menghitung median penjualan game pada platform PS2\n",
    "median_ps2 = df_2[df_2['platform'] == 'PS2']['global_sales'].median()\n",
    "print(\"Median Penjualan Game PS2:\", median_ps2)\n",
    "\n",
    "#Rumus untuk menghitung modus penjualan game pada platform PS2\n",
    "mode_ps2 = df_2[df_2['platform'] == 'PS2']['global_sales'].mode()\n",
    "print(\"Modus Penjualan Game PS2:\", mode_ps2)"
   ]
  },
  {
   "cell_type": "markdown",
   "metadata": {},
   "source": [
    "Rata-rata penjualan game di platform PS2 adalah sekitar 0.5799 juta dollar, Lalu dilanjutkan oleh median penjualan game PS2 yaitu sekitar 0.23 juta dollar, dan di akhiri dengan modus pada penjualan game di platform PS2 yaitu 0.02 juta dollar"
   ]
  },
  {
   "cell_type": "markdown",
   "metadata": {},
   "source": [
    "Pada bagian ini, kita akan menjawab pertanyaan terakhir yaitu tentang publisher dengan penjualan game terbanyak, maka dari itu kita perlu untuk mengelompoka n penjualan g lobal berdasarkan publisher"
   ]
  },
  {
   "cell_type": "code",
   "execution_count": 27,
   "metadata": {},
   "outputs": [],
   "source": [
    "#Rumus untuk membuat variabel penjualan berdasarkan Publisher\n",
    "sales_by_publisher = df_2.groupby('publisher')['global_sales'].sum()"
   ]
  },
  {
   "cell_type": "code",
   "execution_count": 28,
   "metadata": {},
   "outputs": [
    {
     "data": {
      "text/plain": [
       "publisher\n",
       "Nintendo                       1784.43\n",
       "Electronic Arts                1093.39\n",
       "Activision                      721.41\n",
       "Sony Computer Entertainment     607.28\n",
       "Ubisoft                         473.54\n",
       "                                ...   \n",
       "Epic Games                        0.01\n",
       "Paradox Development               0.01\n",
       "Rain Games                        0.01\n",
       "Ascaron Entertainment             0.01\n",
       "Commseed                          0.01\n",
       "Name: global_sales, Length: 576, dtype: float64"
      ]
     },
     "execution_count": 28,
     "metadata": {},
     "output_type": "execute_result"
    }
   ],
   "source": [
    "#Rumus untuk menampilkan urutan penjulaan berdasarkan publisher dan diurut dari yang tertinggi\n",
    "sales_by_publisher.sort_values(ascending= False)"
   ]
  },
  {
   "cell_type": "markdown",
   "metadata": {},
   "source": [
    "Berdasarkan hasil ini bisa disimpulkan bahwa Nintendo merupakan publisher dengan hasil penjualan terbanyak dari publisher lainnya"
   ]
  },
  {
   "cell_type": "markdown",
   "metadata": {},
   "source": [
    "# Kesimpulan"
   ]
  },
  {
   "cell_type": "markdown",
   "metadata": {},
   "source": [
    "Berdasarkan Hasil Analisis diatas, Industri Video Game merupakan industri yang sangat dinamis dan selalu berubah-rubah dimana dari hasil analisis Genre Action merupakan genre dengan hasil terbanyak sementara lalu hasil data pun juga Benua Amerika Utara merupakan konsumen utama dari industri video game dimana mereka berkontribusi sebanyak hampir 50% penjualan global. Walaupun penjualan sekarang tidak sebanyak penjualan pada dekade 2000an tetapi penjualan dari industri game sendiri pun masih bisa dibilang sangat tinggi dimana di dekade 2010an menjual sebanyak 2520 Juta dollar jadi permintaan akan game dan innovasi baru masih ada dan masih ada potensinya"
   ]
  }
 ],
 "metadata": {
  "kernelspec": {
   "display_name": "base",
   "language": "python",
   "name": "python3"
  },
  "language_info": {
   "codemirror_mode": {
    "name": "ipython",
    "version": 3
   },
   "file_extension": ".py",
   "mimetype": "text/x-python",
   "name": "python",
   "nbconvert_exporter": "python",
   "pygments_lexer": "ipython3",
   "version": "3.9.17"
  },
  "orig_nbformat": 4
 },
 "nbformat": 4,
 "nbformat_minor": 2
}
