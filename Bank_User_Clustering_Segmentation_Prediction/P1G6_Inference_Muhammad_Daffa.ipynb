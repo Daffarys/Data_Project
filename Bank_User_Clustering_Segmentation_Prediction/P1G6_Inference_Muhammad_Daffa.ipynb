{
 "cells": [
  {
   "cell_type": "markdown",
   "metadata": {},
   "source": [
    "# Model Inference\n",
    "\n",
    "\n",
    "Name: Muhammad Daffa Al Rasyid\n",
    "\n",
    "Batch : BSD-001"
   ]
  },
  {
   "cell_type": "code",
   "execution_count": 30,
   "metadata": {},
   "outputs": [],
   "source": [
    "import pickle\n",
    "\n",
    "#Load file Model\n",
    "\n",
    "with open('km.pkl','rb') as file_1:\n",
    "  km = pickle.load(file_1)\n",
    "\n",
    "with open('minmaxscaler.pkl','rb') as file_2:\n",
    "  minmaxscaler = pickle.load(file_2)\n",
    "\n",
    "with open('list_num_column.txt', 'rb') as file_3:\n",
    "  list_num_column = pickle.load(file_3)"
   ]
  },
  {
   "cell_type": "code",
   "execution_count": 31,
   "metadata": {},
   "outputs": [],
   "source": [
    "import pandas as pd\n",
    "import numpy as np\n",
    "pd_inf = pd.read_csv('data_inf.csv')"
   ]
  },
  {
   "cell_type": "code",
   "execution_count": 33,
   "metadata": {},
   "outputs": [],
   "source": [
    "pd_inf_num = pd_inf[list_num_column]"
   ]
  },
  {
   "cell_type": "code",
   "execution_count": 34,
   "metadata": {},
   "outputs": [],
   "source": [
    "# Scaling \n",
    "pd_inf_num_scaled = minmaxscaler.transform(pd_inf_num)"
   ]
  },
  {
   "cell_type": "code",
   "execution_count": 35,
   "metadata": {},
   "outputs": [
    {
     "name": "stdout",
     "output_type": "stream",
     "text": [
      "Cluster: 2\n"
     ]
    }
   ],
   "source": [
    "# Predict cluster using K Means\n",
    "X_pred_inf = km.predict(pd_inf_num_scaled)\n",
    "\n",
    "print('Cluster:',round(X_pred_inf[0], 2))"
   ]
  }
 ],
 "metadata": {
  "kernelspec": {
   "display_name": "base",
   "language": "python",
   "name": "python3"
  },
  "language_info": {
   "codemirror_mode": {
    "name": "ipython",
    "version": 3
   },
   "file_extension": ".py",
   "mimetype": "text/x-python",
   "name": "python",
   "nbconvert_exporter": "python",
   "pygments_lexer": "ipython3",
   "version": "3.9.17"
  },
  "orig_nbformat": 4
 },
 "nbformat": 4,
 "nbformat_minor": 2
}
