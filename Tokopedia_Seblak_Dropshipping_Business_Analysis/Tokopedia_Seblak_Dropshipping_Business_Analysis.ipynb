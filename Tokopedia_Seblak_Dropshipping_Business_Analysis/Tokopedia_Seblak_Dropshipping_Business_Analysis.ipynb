{
 "cells": [
  {
   "cell_type": "markdown",
   "metadata": {},
   "source": [
    "# Introduction\n",
    "\n",
    "Program ini dibuat untuk mengambil informasi dari website untuk dibuatkan tabel agar data bisa di analisis"
   ]
  },
  {
   "cell_type": "markdown",
   "metadata": {},
   "source": [
    "# Web Scraping"
   ]
  },
  {
   "cell_type": "code",
   "execution_count": 1,
   "metadata": {},
   "outputs": [],
   "source": [
    "#Rumus untuk m=mengimport software-software yang diperlukan untuk web scraping\n",
    "from bs4 import BeautifulSoup\n",
    "from selenium import webdriver\n",
    "from selenium.webdriver.support.ui import WebDriverWait\n",
    "from selenium.webdriver.support import expected_conditions as EC\n",
    "from selenium.webdriver.common.by import By\n",
    "import pandas as pd\n",
    "import time\n",
    "from scipy import stats\n",
    "import numpy as np\n",
    "url=\"https://www.tokopedia.com/search?navsource=&page=1&q=seblak&srp_component_id=02.01.00.00&srp_page_id=&srp_page_title=&st=\"\n"
   ]
  },
  {
   "cell_type": "code",
   "execution_count": 3,
   "metadata": {},
   "outputs": [
    {
     "data": {
      "text/html": [
       "<div>\n",
       "<style scoped>\n",
       "    .dataframe tbody tr th:only-of-type {\n",
       "        vertical-align: middle;\n",
       "    }\n",
       "\n",
       "    .dataframe tbody tr th {\n",
       "        vertical-align: top;\n",
       "    }\n",
       "\n",
       "    .dataframe thead th {\n",
       "        text-align: right;\n",
       "    }\n",
       "</style>\n",
       "<table border=\"1\" class=\"dataframe\">\n",
       "  <thead>\n",
       "    <tr style=\"text-align: right;\">\n",
       "      <th></th>\n",
       "      <th>Name</th>\n",
       "      <th>Price</th>\n",
       "      <th>Seller</th>\n",
       "      <th>Cities</th>\n",
       "      <th>Product sold</th>\n",
       "      <th>Product rating</th>\n",
       "    </tr>\n",
       "  </thead>\n",
       "  <tbody>\n",
       "    <tr>\n",
       "      <th>0</th>\n",
       "      <td>Mommy Seblak Basah Instant 100gr</td>\n",
       "      <td>Rp10.000</td>\n",
       "      <td>emmoshop</td>\n",
       "      <td>Kab. Bogor</td>\n",
       "      <td>Terjual 2 rb+</td>\n",
       "      <td>4.9</td>\n",
       "    </tr>\n",
       "    <tr>\n",
       "      <th>1</th>\n",
       "      <td>Seblak Instan Ceu Nthien Khas Bandung Rasana N...</td>\n",
       "      <td>Rp15.000</td>\n",
       "      <td>Central Seblak Nusantara</td>\n",
       "      <td>Tangerang Selatan</td>\n",
       "      <td>Terjual 1 rb+</td>\n",
       "      <td>4.9</td>\n",
       "    </tr>\n",
       "    <tr>\n",
       "      <th>2</th>\n",
       "      <td>SEBLAK INSTANT TERMURAH</td>\n",
       "      <td>Rp3.999</td>\n",
       "      <td>Pusat Cuankie &amp; Cemilan Frozen</td>\n",
       "      <td>Jakarta Timur</td>\n",
       "      <td>Terjual 10 rb+</td>\n",
       "      <td>4.8</td>\n",
       "    </tr>\n",
       "    <tr>\n",
       "      <th>3</th>\n",
       "      <td>seblak instant sajodo snak</td>\n",
       "      <td>Rp19.000</td>\n",
       "      <td>hikmah berkah jaya</td>\n",
       "      <td>Jakarta Barat</td>\n",
       "      <td>Terjual 750+</td>\n",
       "      <td>4.8</td>\n",
       "    </tr>\n",
       "    <tr>\n",
       "      <th>4</th>\n",
       "      <td>SEBLAK VIRAL - SEBLAK INSTANT - SEBLAK RAFAEL ...</td>\n",
       "      <td>Rp8.880</td>\n",
       "      <td>FARADHIFY STORE</td>\n",
       "      <td>Bekasi</td>\n",
       "      <td>Terjual 100+</td>\n",
       "      <td>4.8</td>\n",
       "    </tr>\n",
       "    <tr>\n",
       "      <th>...</th>\n",
       "      <td>...</td>\n",
       "      <td>...</td>\n",
       "      <td>...</td>\n",
       "      <td>...</td>\n",
       "      <td>...</td>\n",
       "      <td>...</td>\n",
       "    </tr>\n",
       "    <tr>\n",
       "      <th>280</th>\n",
       "      <td>KERUPUK SEBLAK 250gr / KRUPUK SEBLAK DAUN JERU...</td>\n",
       "      <td>Rp12.500</td>\n",
       "      <td>Dapur Sehat21</td>\n",
       "      <td>Kab. Bandung</td>\n",
       "      <td>Terjual 100+</td>\n",
       "      <td>4.9</td>\n",
       "    </tr>\n",
       "    <tr>\n",
       "      <th>281</th>\n",
       "      <td>Kerupuk Orange / Kerupuk Seblak 250gr / Kerupu...</td>\n",
       "      <td>Rp7.500</td>\n",
       "      <td>BawangBagus</td>\n",
       "      <td>Tangerang</td>\n",
       "      <td>Terjual 5</td>\n",
       "      <td>None</td>\n",
       "    </tr>\n",
       "    <tr>\n",
       "      <th>282</th>\n",
       "      <td>Seblak kuah instan , Seblak khas garut b</td>\n",
       "      <td>Rp5.000</td>\n",
       "      <td>iwan resistans leather 2</td>\n",
       "      <td>Kab. Garut</td>\n",
       "      <td>Terjual 500+</td>\n",
       "      <td>4.9</td>\n",
       "    </tr>\n",
       "    <tr>\n",
       "      <th>283</th>\n",
       "      <td>Paket seblak sosis untuk 3 porsi</td>\n",
       "      <td>Rp29.000</td>\n",
       "      <td>Tukangsayurmbakyu</td>\n",
       "      <td>Tangerang Selatan</td>\n",
       "      <td>Terjual 8</td>\n",
       "      <td>5.0</td>\n",
       "    </tr>\n",
       "    <tr>\n",
       "      <th>284</th>\n",
       "      <td>Kerupuk jeblay kiloan 1 kg pedas Kerupuk seblak</td>\n",
       "      <td>Rp35.000</td>\n",
       "      <td>RIKI STORE 97</td>\n",
       "      <td>Kab. Bogor</td>\n",
       "      <td>Terjual 1</td>\n",
       "      <td>None</td>\n",
       "    </tr>\n",
       "  </tbody>\n",
       "</table>\n",
       "<p>78 rows × 6 columns</p>\n",
       "</div>"
      ],
      "text/plain": [
       "                                                  Name     Price  \\\n",
       "0                     Mommy Seblak Basah Instant 100gr  Rp10.000   \n",
       "1    Seblak Instan Ceu Nthien Khas Bandung Rasana N...  Rp15.000   \n",
       "2                              SEBLAK INSTANT TERMURAH   Rp3.999   \n",
       "3                           seblak instant sajodo snak  Rp19.000   \n",
       "4    SEBLAK VIRAL - SEBLAK INSTANT - SEBLAK RAFAEL ...   Rp8.880   \n",
       "..                                                 ...       ...   \n",
       "280  KERUPUK SEBLAK 250gr / KRUPUK SEBLAK DAUN JERU...  Rp12.500   \n",
       "281  Kerupuk Orange / Kerupuk Seblak 250gr / Kerupu...   Rp7.500   \n",
       "282           Seblak kuah instan , Seblak khas garut b   Rp5.000   \n",
       "283                   Paket seblak sosis untuk 3 porsi  Rp29.000   \n",
       "284    Kerupuk jeblay kiloan 1 kg pedas Kerupuk seblak  Rp35.000   \n",
       "\n",
       "                             Seller             Cities    Product sold  \\\n",
       "0                          emmoshop         Kab. Bogor   Terjual 2 rb+   \n",
       "1          Central Seblak Nusantara  Tangerang Selatan   Terjual 1 rb+   \n",
       "2    Pusat Cuankie & Cemilan Frozen      Jakarta Timur  Terjual 10 rb+   \n",
       "3                hikmah berkah jaya      Jakarta Barat    Terjual 750+   \n",
       "4                   FARADHIFY STORE             Bekasi    Terjual 100+   \n",
       "..                              ...                ...             ...   \n",
       "280                   Dapur Sehat21       Kab. Bandung    Terjual 100+   \n",
       "281                     BawangBagus          Tangerang       Terjual 5   \n",
       "282        iwan resistans leather 2         Kab. Garut    Terjual 500+   \n",
       "283               Tukangsayurmbakyu  Tangerang Selatan       Terjual 8   \n",
       "284                   RIKI STORE 97         Kab. Bogor       Terjual 1   \n",
       "\n",
       "    Product rating  \n",
       "0              4.9  \n",
       "1              4.9  \n",
       "2              4.8  \n",
       "3              4.8  \n",
       "4              4.8  \n",
       "..             ...  \n",
       "280            4.9  \n",
       "281           None  \n",
       "282            4.9  \n",
       "283            5.0  \n",
       "284           None  \n",
       "\n",
       "[78 rows x 6 columns]"
      ]
     },
     "execution_count": 3,
     "metadata": {},
     "output_type": "execute_result"
    }
   ],
   "source": [
    "#Rumus untuk melakukan web scraping dari website tokopedia\n",
    "list_tokped= []\n",
    "for i in range(1,11):\n",
    "    url=\"https://www.tokopedia.com/search?navsource=&page={}&q=seblak&srp_component_id=02.01.00.00&srp_page_id=&srp_page_title=&st=\".format(i)\n",
    "    driver = webdriver.Chrome()\n",
    "    driver.get(url)\n",
    "    html = driver.page_source\n",
    "    soup = BeautifulSoup(html, \"html.parser\")\n",
    "    for item in soup.findAll('div',{\"class\":\"css-974ipl\"}):\n",
    "          Name = item.find('div',{\"class\":\"prd_link-product-name css-3um8ox\"}).text\n",
    "          Price = item.find('div',{\"class\":\"prd_link-product-price css-1ksb19c\"}).text\n",
    "\n",
    "          item3 = item.findAll('span', {\"class\":\"prd_label-integrity css-1duhs3e\"})\n",
    "          if len(item3) > 0:\n",
    "               Product_sold = item.find('span', {\"class\":\"prd_label-integrity css-1duhs3e\"}).text\n",
    "          else:\n",
    "               Product_sold = None\n",
    "          item4 = item.findAll ('span', {\"class\":\"prd_rating-average-text css-t70v7i\"})\n",
    "          if len(item4) > 0:\n",
    "               Product_rating = item.find('span', {\"class\":\"prd_rating-average-text css-t70v7i\"}).text\n",
    "          else:\n",
    "               Product_rating = None\n",
    "          for item2 in item.findAll('div',{\"class\":\"css-1rn0irl\"}):\n",
    "               Seller = item2.findAll('span',{\"class\":\"prd_link-shop-name css-1kdc32b flip\"})[0].text\n",
    "               Cities = item2.findAll('span', {\"class\":\"prd_link-shop-loc css-1kdc32b flip\"})[0].text\n",
    "               list_tokped.append((Name, Price, Seller, Cities, Product_sold,Product_rating))\n",
    "\n",
    "df = pd.DataFrame(list_tokped, columns=['Name','Price','Seller','Cities','Product sold', 'Product rating'])\n",
    "df = df.drop_duplicates()\n",
    "df"
   ]
  },
  {
   "cell_type": "code",
   "execution_count": 49,
   "metadata": {},
   "outputs": [],
   "source": [
    "#Rumus untuk mengexport data menjadi file csv\n",
    "df.to_csv('Seblak_Tokped.csv')"
   ]
  },
  {
   "cell_type": "code",
   "execution_count": 50,
   "metadata": {},
   "outputs": [],
   "source": [
    "#Rumus untuk membaca kembali file yang sebelumnya di export menjadi csv\n",
    "df = pd.read_csv('Seblak_Tokped.csv')"
   ]
  },
  {
   "cell_type": "markdown",
   "metadata": {},
   "source": [
    "# Data Exploration"
   ]
  },
  {
   "cell_type": "code",
   "execution_count": 51,
   "metadata": {},
   "outputs": [
    {
     "name": "stdout",
     "output_type": "stream",
     "text": [
      "<class 'pandas.core.frame.DataFrame'>\n",
      "RangeIndex: 78 entries, 0 to 77\n",
      "Data columns (total 8 columns):\n",
      " #   Column          Non-Null Count  Dtype  \n",
      "---  ------          --------------  -----  \n",
      " 0   Unnamed: 0      78 non-null     int64  \n",
      " 1   Name            78 non-null     object \n",
      " 2   Price           78 non-null     float64\n",
      " 3   Seller          78 non-null     object \n",
      " 4   Cities          78 non-null     object \n",
      " 5   Product sold    78 non-null     int64  \n",
      " 6   Product rating  78 non-null     float64\n",
      " 7   Income          78 non-null     float64\n",
      "dtypes: float64(3), int64(2), object(3)\n",
      "memory usage: 5.0+ KB\n"
     ]
    }
   ],
   "source": [
    "#Rumus untuk mengeluarkan informasi dari database\n",
    "df.info()"
   ]
  },
  {
   "cell_type": "markdown",
   "metadata": {},
   "source": [
    "Dari hasil pembacaan data diatas terdapat informasi bahwa semua tipe data merupakan object berarti harus diubah sesuai tipe data yang benar agar bisa diolah"
   ]
  },
  {
   "cell_type": "code",
   "execution_count": 5,
   "metadata": {},
   "outputs": [
    {
     "data": {
      "text/plain": [
       "Index(['Name', 'Price', 'Seller', 'Cities', 'Product sold', 'Product rating'], dtype='object')"
      ]
     },
     "execution_count": 5,
     "metadata": {},
     "output_type": "execute_result"
    }
   ],
   "source": [
    "df.columns"
   ]
  },
  {
   "cell_type": "markdown",
   "metadata": {},
   "source": [
    "# Data Cleaning"
   ]
  },
  {
   "cell_type": "code",
   "execution_count": 6,
   "metadata": {},
   "outputs": [],
   "source": [
    "#Rumus untuk menghapus Rp yang berada di dalam column Price\n",
    "df['Price']= df['Price'].str.replace('Rp', '')\n",
    "#Rumus untuk menghapus kata Terjual dari column Product sold\n",
    "df['Product sold']= df['Product sold'].str.replace('Terjual', '')"
   ]
  },
  {
   "cell_type": "code",
   "execution_count": 7,
   "metadata": {},
   "outputs": [],
   "source": [
    "#Rumus untuk mengganti kata rb menjadi angka ribuan(000) dan Rumus untuk menghapus tanda + di column Product sold\n",
    "df['Product sold']= df['Product sold'].str.replace('rb', '000')\n",
    "df['Product sold']= df['Product sold'].str.replace('+', '')"
   ]
  },
  {
   "cell_type": "code",
   "execution_count": 8,
   "metadata": {},
   "outputs": [],
   "source": [
    "#Rumus untuk mengubah None menjadi non values\n",
    "df['Product sold'] = df['Product sold'].replace('None', pd.NA)"
   ]
  },
  {
   "cell_type": "code",
   "execution_count": 9,
   "metadata": {},
   "outputs": [],
   "source": [
    "#Rumus untuk menghilangkan spasi di column Product sold\n",
    "df['Product sold']= df['Product sold'].str.replace(' ', '')"
   ]
  },
  {
   "cell_type": "code",
   "execution_count": 10,
   "metadata": {},
   "outputs": [],
   "source": [
    "#Rumus untuk mengubah non values menjadi angka 0 serta mengubah jenis data dari object menjadi integer\n",
    "df['Product sold'] = df['Product sold'].fillna(0).astype(int)"
   ]
  },
  {
   "cell_type": "code",
   "execution_count": 11,
   "metadata": {},
   "outputs": [],
   "source": [
    "#Rumus untuk mengubah non values menjadi angka 0 serta mengubah jenis data dari object menjadi float\n",
    "df['Product rating']= df['Product rating'].fillna(0).astype(float)"
   ]
  },
  {
   "cell_type": "code",
   "execution_count": 12,
   "metadata": {},
   "outputs": [
    {
     "data": {
      "text/html": [
       "<div>\n",
       "<style scoped>\n",
       "    .dataframe tbody tr th:only-of-type {\n",
       "        vertical-align: middle;\n",
       "    }\n",
       "\n",
       "    .dataframe tbody tr th {\n",
       "        vertical-align: top;\n",
       "    }\n",
       "\n",
       "    .dataframe thead th {\n",
       "        text-align: right;\n",
       "    }\n",
       "</style>\n",
       "<table border=\"1\" class=\"dataframe\">\n",
       "  <thead>\n",
       "    <tr style=\"text-align: right;\">\n",
       "      <th></th>\n",
       "      <th>Name</th>\n",
       "      <th>Price</th>\n",
       "      <th>Seller</th>\n",
       "      <th>Cities</th>\n",
       "      <th>Product sold</th>\n",
       "      <th>Product rating</th>\n",
       "    </tr>\n",
       "  </thead>\n",
       "  <tbody>\n",
       "    <tr>\n",
       "      <th>0</th>\n",
       "      <td>Mommy Seblak Basah Instant 100gr</td>\n",
       "      <td>10.000</td>\n",
       "      <td>emmoshop</td>\n",
       "      <td>Kab. Bogor</td>\n",
       "      <td>2000</td>\n",
       "      <td>4.9</td>\n",
       "    </tr>\n",
       "    <tr>\n",
       "      <th>1</th>\n",
       "      <td>Seblak Instan Ceu Nthien Khas Bandung Rasana N...</td>\n",
       "      <td>15.000</td>\n",
       "      <td>Central Seblak Nusantara</td>\n",
       "      <td>Tangerang Selatan</td>\n",
       "      <td>1000</td>\n",
       "      <td>4.9</td>\n",
       "    </tr>\n",
       "    <tr>\n",
       "      <th>2</th>\n",
       "      <td>SEBLAK INSTANT TERMURAH</td>\n",
       "      <td>3.999</td>\n",
       "      <td>Pusat Cuankie &amp; Cemilan Frozen</td>\n",
       "      <td>Jakarta Timur</td>\n",
       "      <td>10000</td>\n",
       "      <td>4.8</td>\n",
       "    </tr>\n",
       "    <tr>\n",
       "      <th>3</th>\n",
       "      <td>seblak instant sajodo snak</td>\n",
       "      <td>19.000</td>\n",
       "      <td>hikmah berkah jaya</td>\n",
       "      <td>Jakarta Barat</td>\n",
       "      <td>750</td>\n",
       "      <td>4.8</td>\n",
       "    </tr>\n",
       "    <tr>\n",
       "      <th>4</th>\n",
       "      <td>SEBLAK VIRAL - SEBLAK INSTANT - SEBLAK RAFAEL ...</td>\n",
       "      <td>8.880</td>\n",
       "      <td>FARADHIFY STORE</td>\n",
       "      <td>Bekasi</td>\n",
       "      <td>100</td>\n",
       "      <td>4.8</td>\n",
       "    </tr>\n",
       "    <tr>\n",
       "      <th>...</th>\n",
       "      <td>...</td>\n",
       "      <td>...</td>\n",
       "      <td>...</td>\n",
       "      <td>...</td>\n",
       "      <td>...</td>\n",
       "      <td>...</td>\n",
       "    </tr>\n",
       "    <tr>\n",
       "      <th>280</th>\n",
       "      <td>KERUPUK SEBLAK 250gr / KRUPUK SEBLAK DAUN JERU...</td>\n",
       "      <td>12.500</td>\n",
       "      <td>Dapur Sehat21</td>\n",
       "      <td>Kab. Bandung</td>\n",
       "      <td>100</td>\n",
       "      <td>4.9</td>\n",
       "    </tr>\n",
       "    <tr>\n",
       "      <th>281</th>\n",
       "      <td>Kerupuk Orange / Kerupuk Seblak 250gr / Kerupu...</td>\n",
       "      <td>7.500</td>\n",
       "      <td>BawangBagus</td>\n",
       "      <td>Tangerang</td>\n",
       "      <td>5</td>\n",
       "      <td>0.0</td>\n",
       "    </tr>\n",
       "    <tr>\n",
       "      <th>282</th>\n",
       "      <td>Seblak kuah instan , Seblak khas garut b</td>\n",
       "      <td>5.000</td>\n",
       "      <td>iwan resistans leather 2</td>\n",
       "      <td>Kab. Garut</td>\n",
       "      <td>500</td>\n",
       "      <td>4.9</td>\n",
       "    </tr>\n",
       "    <tr>\n",
       "      <th>283</th>\n",
       "      <td>Paket seblak sosis untuk 3 porsi</td>\n",
       "      <td>29.000</td>\n",
       "      <td>Tukangsayurmbakyu</td>\n",
       "      <td>Tangerang Selatan</td>\n",
       "      <td>8</td>\n",
       "      <td>5.0</td>\n",
       "    </tr>\n",
       "    <tr>\n",
       "      <th>284</th>\n",
       "      <td>Kerupuk jeblay kiloan 1 kg pedas Kerupuk seblak</td>\n",
       "      <td>35.000</td>\n",
       "      <td>RIKI STORE 97</td>\n",
       "      <td>Kab. Bogor</td>\n",
       "      <td>1</td>\n",
       "      <td>0.0</td>\n",
       "    </tr>\n",
       "  </tbody>\n",
       "</table>\n",
       "<p>78 rows × 6 columns</p>\n",
       "</div>"
      ],
      "text/plain": [
       "                                                  Name   Price  \\\n",
       "0                     Mommy Seblak Basah Instant 100gr  10.000   \n",
       "1    Seblak Instan Ceu Nthien Khas Bandung Rasana N...  15.000   \n",
       "2                              SEBLAK INSTANT TERMURAH   3.999   \n",
       "3                           seblak instant sajodo snak  19.000   \n",
       "4    SEBLAK VIRAL - SEBLAK INSTANT - SEBLAK RAFAEL ...   8.880   \n",
       "..                                                 ...     ...   \n",
       "280  KERUPUK SEBLAK 250gr / KRUPUK SEBLAK DAUN JERU...  12.500   \n",
       "281  Kerupuk Orange / Kerupuk Seblak 250gr / Kerupu...   7.500   \n",
       "282           Seblak kuah instan , Seblak khas garut b   5.000   \n",
       "283                   Paket seblak sosis untuk 3 porsi  29.000   \n",
       "284    Kerupuk jeblay kiloan 1 kg pedas Kerupuk seblak  35.000   \n",
       "\n",
       "                             Seller             Cities  Product sold  \\\n",
       "0                          emmoshop         Kab. Bogor          2000   \n",
       "1          Central Seblak Nusantara  Tangerang Selatan          1000   \n",
       "2    Pusat Cuankie & Cemilan Frozen      Jakarta Timur         10000   \n",
       "3                hikmah berkah jaya      Jakarta Barat           750   \n",
       "4                   FARADHIFY STORE             Bekasi           100   \n",
       "..                              ...                ...           ...   \n",
       "280                   Dapur Sehat21       Kab. Bandung           100   \n",
       "281                     BawangBagus          Tangerang             5   \n",
       "282        iwan resistans leather 2         Kab. Garut           500   \n",
       "283               Tukangsayurmbakyu  Tangerang Selatan             8   \n",
       "284                   RIKI STORE 97         Kab. Bogor             1   \n",
       "\n",
       "     Product rating  \n",
       "0               4.9  \n",
       "1               4.9  \n",
       "2               4.8  \n",
       "3               4.8  \n",
       "4               4.8  \n",
       "..              ...  \n",
       "280             4.9  \n",
       "281             0.0  \n",
       "282             4.9  \n",
       "283             5.0  \n",
       "284             0.0  \n",
       "\n",
       "[78 rows x 6 columns]"
      ]
     },
     "execution_count": 12,
     "metadata": {},
     "output_type": "execute_result"
    }
   ],
   "source": [
    "df"
   ]
  },
  {
   "cell_type": "code",
   "execution_count": 13,
   "metadata": {},
   "outputs": [],
   "source": [
    "#Rumus untuk mengubah jenis data dari object menjadi float\n",
    "df['Price']= df['Price'].astype(float)"
   ]
  },
  {
   "cell_type": "code",
   "execution_count": 14,
   "metadata": {},
   "outputs": [
    {
     "name": "stdout",
     "output_type": "stream",
     "text": [
      "<class 'pandas.core.frame.DataFrame'>\n",
      "Index: 78 entries, 0 to 284\n",
      "Data columns (total 6 columns):\n",
      " #   Column          Non-Null Count  Dtype  \n",
      "---  ------          --------------  -----  \n",
      " 0   Name            78 non-null     object \n",
      " 1   Price           78 non-null     float64\n",
      " 2   Seller          78 non-null     object \n",
      " 3   Cities          78 non-null     object \n",
      " 4   Product sold    78 non-null     int32  \n",
      " 5   Product rating  78 non-null     float64\n",
      "dtypes: float64(2), int32(1), object(3)\n",
      "memory usage: 4.0+ KB\n"
     ]
    }
   ],
   "source": [
    "df.info()"
   ]
  },
  {
   "cell_type": "markdown",
   "metadata": {},
   "source": [
    "# SMART Framework"
   ]
  },
  {
   "cell_type": "markdown",
   "metadata": {},
   "source": [
    "Berdasarkan data dari atas serta tujuan untuk menghasilkan pendapatan tambahan berikut merupakan goals yang di buat:"
   ]
  },
  {
   "cell_type": "markdown",
   "metadata": {},
   "source": [
    "Specific: Memulai operasi penjualan seblak melalui dropshipping dan memulai promosi untuk membantu meningkatkan penjualan \n",
    "\n",
    "Measurable: Bisa menjual sebanyak 50 Produk perbulannya dan bisa mendapatkan visit ke halaman store sebanyak 500 perbulan \n",
    "\n",
    "Achievable: Menemukan supplier dengan harga murah serta menggunakan tools-tools yang bisa membantu promosi seperti sosial media, serta fitur chat dan promoted page di tokopedia bisa mendapatkan penjualan produk sebanyak 50 perbulannya serta mendapatkan leads atau calon pelanggan sebanyak 500\n",
    "\n",
    "Relevant: Dengan menemukan supplier yang memiliki harga murah bisa meningkatkan margin penjualan agar bisa mendapatkan biaya untuk dialokasikan untuk kegiatan promosi dan marketing supaya bisa meningkatkan brand exposure agar produk dari brand kami lebih banyak diketahui pasar yang memungkinkan untuk meningkatkan penghasilan\n",
    "\n",
    "Time Bound: Target ini di harapkan bisa di capai dalam kurun waktu 3 bulan"
   ]
  },
  {
   "cell_type": "markdown",
   "metadata": {},
   "source": [
    "Smart target yang ingin dicapai adalah supaya bisa memulai operasi penjualan seblak setelah 3 bulan dengan target 50 Produk perbulan dengan menemukan supplier dengan harga murah agar mendapatkan margin harga yang tinggi dan juga memulai operasi promosi dengan target 500 visit ke halaman perbulannya dengan usaha promosi melalui sosial media, dan fitur chat serta promoted page di tokopedia untuk meningkatkan brand awareness yang bisa menambahkan jumlah leads serta potensi untuk meningkatkan pendapatan"
   ]
  },
  {
   "cell_type": "markdown",
   "metadata": {},
   "source": [
    "# Statistical Analysis"
   ]
  },
  {
   "cell_type": "markdown",
   "metadata": {},
   "source": [
    "Program ini dibuat untuk menganalisis data secara statistik descriptive dan inferential"
   ]
  },
  {
   "cell_type": "code",
   "execution_count": 15,
   "metadata": {},
   "outputs": [
    {
     "name": "stdout",
     "output_type": "stream",
     "text": [
      "Average Price: 30.819666666666663\n",
      "Median of Price: 15.0595\n",
      "Mode of Price: 10.0\n"
     ]
    }
   ],
   "source": [
    "#Rumus untuk menghitung Rata-rata dari harga\n",
    "print('Average Price:',df['Price'].mean(),)\n",
    "#Rumus untuk menghitung Median dari harga\n",
    "print('Median of Price:',df['Price'].median(),)\n",
    "#Rumus untuk menghitung Modus dari harga\n",
    "print('Mode of Price:',df['Price'].mode().values[0],)"
   ]
  },
  {
   "cell_type": "code",
   "execution_count": 16,
   "metadata": {},
   "outputs": [
    {
     "name": "stdout",
     "output_type": "stream",
     "text": [
      "Skewness: 7.918995380324876\n"
     ]
    }
   ],
   "source": [
    "#Rumus untuk menghitung skewness dari sebuah tabel\n",
    "print(f\"Skewness: {df['Price'].skew()}\")"
   ]
  },
  {
   "cell_type": "code",
   "execution_count": 17,
   "metadata": {},
   "outputs": [
    {
     "name": "stdout",
     "output_type": "stream",
     "text": [
      "Kurtosis: 66.8289032938714\n"
     ]
    }
   ],
   "source": [
    "#Rumus untuk menghitung kurtosis dari sebuah tabel\n",
    "print(f\"Kurtosis: {df['Price'].kurtosis()}\")"
   ]
  },
  {
   "cell_type": "code",
   "execution_count": 18,
   "metadata": {},
   "outputs": [
    {
     "name": "stdout",
     "output_type": "stream",
     "text": [
      "Average Product sold: 518.6410256410256\n",
      "Median of Product sold: 80.0\n",
      "Mode of Product sold: 100\n"
     ]
    }
   ],
   "source": [
    "#Rumus untuk menghitung Rata-rata dari produk terjual\n",
    "print('Average Product sold:',df['Product sold'].mean(),)\n",
    "#Rumus untuk menghitung Median dari produk terjual\n",
    "print('Median of Product sold:',df['Product sold'].median(),)\n",
    "#Rumus untuk menghitung Modus dari produk terjual\n",
    "print('Mode of Product sold:',df['Product sold'].mode().values[0],)"
   ]
  },
  {
   "cell_type": "code",
   "execution_count": 21,
   "metadata": {},
   "outputs": [
    {
     "name": "stdout",
     "output_type": "stream",
     "text": [
      "Average Product rating: 4.144871794871794\n",
      "Median of Product rating: 4.9\n",
      "Mode of Product rating: 4.9\n"
     ]
    }
   ],
   "source": [
    "#Rumus untuk menghitung Rata-rata dari rating produk\n",
    "print('Average Product rating:',df['Product rating'].mean(),)\n",
    "#Rumus untuk menghitung Median dari rating produk\n",
    "print('Median of Product rating:',df['Product rating'].median(),)\n",
    "#Rumus untuk menghitung Modus dari rating produk\n",
    "print('Mode of Product rating:',df['Product rating'].mode().values[0],)"
   ]
  },
  {
   "cell_type": "code",
   "execution_count": 22,
   "metadata": {},
   "outputs": [
    {
     "name": "stdout",
     "output_type": "stream",
     "text": [
      "Upper Boundary: 49.94\n",
      "Lower Boundary: -14.56\n"
     ]
    }
   ],
   "source": [
    "#Rumus untuk menentukan upper boundary serta lower boundary untuk column price\n",
    "q1 = df['Price'].quantile(0.25)\n",
    "q3 = df['Price'].quantile(0.75)\n",
    "iqr = q3-q1\n",
    "\n",
    "up_bound = q3 + 1.5*iqr\n",
    "low_bound = q1 - 1.5*iqr\n",
    "\n",
    "print(f'Upper Boundary: {up_bound:.2f}' )\n",
    "print(f'Lower Boundary: {low_bound:.2f}')"
   ]
  },
  {
   "cell_type": "code",
   "execution_count": 23,
   "metadata": {},
   "outputs": [
    {
     "name": "stdout",
     "output_type": "stream",
     "text": [
      "Upper Boundary: 602.50\n",
      "Lower Boundary: -337.50\n"
     ]
    }
   ],
   "source": [
    "#Rumus untuk menentukan upper boundary serta lower boundary untuk column product terjual\n",
    "q1 = df['Product sold'].quantile(0.25)\n",
    "q3 = df['Product sold'].quantile(0.75)\n",
    "iqr = q3-q1\n",
    "\n",
    "up_bound = q3 + 1.5*iqr\n",
    "low_bound = q1 - 1.5*iqr\n",
    "\n",
    "print(f'Upper Boundary: {up_bound:.2f}' )\n",
    "print(f'Lower Boundary: {low_bound:.2f}')"
   ]
  },
  {
   "cell_type": "markdown",
   "metadata": {},
   "source": [
    "Dari hasil data tersebut, di bagian central tendencies menunjukan bahwa data berada di dalam positive skewness dikarenakan hasil mean yang paling tinggi dilanjuti oleh median dan modus. Lalu di bagian skewness juga menunjukan hasil diatas 1 yang menunjukan bahwa distribusi data sangat skew atau tidak normal"
   ]
  },
  {
   "cell_type": "code",
   "execution_count": 24,
   "metadata": {},
   "outputs": [
    {
     "data": {
      "text/html": [
       "<div>\n",
       "<style scoped>\n",
       "    .dataframe tbody tr th:only-of-type {\n",
       "        vertical-align: middle;\n",
       "    }\n",
       "\n",
       "    .dataframe tbody tr th {\n",
       "        vertical-align: top;\n",
       "    }\n",
       "\n",
       "    .dataframe thead th {\n",
       "        text-align: right;\n",
       "    }\n",
       "</style>\n",
       "<table border=\"1\" class=\"dataframe\">\n",
       "  <thead>\n",
       "    <tr style=\"text-align: right;\">\n",
       "      <th></th>\n",
       "      <th>Price</th>\n",
       "      <th>Product sold</th>\n",
       "      <th>Product rating</th>\n",
       "    </tr>\n",
       "  </thead>\n",
       "  <tbody>\n",
       "    <tr>\n",
       "      <th>count</th>\n",
       "      <td>78.000000</td>\n",
       "      <td>78.000000</td>\n",
       "      <td>78.000000</td>\n",
       "    </tr>\n",
       "    <tr>\n",
       "      <th>mean</th>\n",
       "      <td>30.819667</td>\n",
       "      <td>518.641026</td>\n",
       "      <td>4.144872</td>\n",
       "    </tr>\n",
       "    <tr>\n",
       "      <th>std</th>\n",
       "      <td>79.538754</td>\n",
       "      <td>1504.876066</td>\n",
       "      <td>1.781773</td>\n",
       "    </tr>\n",
       "    <tr>\n",
       "      <th>min</th>\n",
       "      <td>3.000000</td>\n",
       "      <td>0.000000</td>\n",
       "      <td>0.000000</td>\n",
       "    </tr>\n",
       "    <tr>\n",
       "      <th>25%</th>\n",
       "      <td>9.624750</td>\n",
       "      <td>15.000000</td>\n",
       "      <td>4.800000</td>\n",
       "    </tr>\n",
       "    <tr>\n",
       "      <th>50%</th>\n",
       "      <td>15.059500</td>\n",
       "      <td>80.000000</td>\n",
       "      <td>4.900000</td>\n",
       "    </tr>\n",
       "    <tr>\n",
       "      <th>75%</th>\n",
       "      <td>25.750000</td>\n",
       "      <td>250.000000</td>\n",
       "      <td>5.000000</td>\n",
       "    </tr>\n",
       "    <tr>\n",
       "      <th>max</th>\n",
       "      <td>699.000000</td>\n",
       "      <td>10000.000000</td>\n",
       "      <td>5.000000</td>\n",
       "    </tr>\n",
       "  </tbody>\n",
       "</table>\n",
       "</div>"
      ],
      "text/plain": [
       "            Price  Product sold  Product rating\n",
       "count   78.000000     78.000000       78.000000\n",
       "mean    30.819667    518.641026        4.144872\n",
       "std     79.538754   1504.876066        1.781773\n",
       "min      3.000000      0.000000        0.000000\n",
       "25%      9.624750     15.000000        4.800000\n",
       "50%     15.059500     80.000000        4.900000\n",
       "75%     25.750000    250.000000        5.000000\n",
       "max    699.000000  10000.000000        5.000000"
      ]
     },
     "execution_count": 24,
     "metadata": {},
     "output_type": "execute_result"
    }
   ],
   "source": [
    "#Rumus untuk menentukan deskripsi dari database\n",
    "df.describe()"
   ]
  },
  {
   "cell_type": "code",
   "execution_count": 25,
   "metadata": {},
   "outputs": [
    {
     "data": {
      "text/html": [
       "<div>\n",
       "<style scoped>\n",
       "    .dataframe tbody tr th:only-of-type {\n",
       "        vertical-align: middle;\n",
       "    }\n",
       "\n",
       "    .dataframe tbody tr th {\n",
       "        vertical-align: top;\n",
       "    }\n",
       "\n",
       "    .dataframe thead th {\n",
       "        text-align: right;\n",
       "    }\n",
       "</style>\n",
       "<table border=\"1\" class=\"dataframe\">\n",
       "  <thead>\n",
       "    <tr style=\"text-align: right;\">\n",
       "      <th></th>\n",
       "      <th>Name</th>\n",
       "      <th>Price</th>\n",
       "      <th>Seller</th>\n",
       "      <th>Cities</th>\n",
       "      <th>Product sold</th>\n",
       "      <th>Product rating</th>\n",
       "    </tr>\n",
       "  </thead>\n",
       "  <tbody>\n",
       "    <tr>\n",
       "      <th>0</th>\n",
       "      <td>Mommy Seblak Basah Instant 100gr</td>\n",
       "      <td>10.000</td>\n",
       "      <td>emmoshop</td>\n",
       "      <td>Kab. Bogor</td>\n",
       "      <td>2000</td>\n",
       "      <td>4.9</td>\n",
       "    </tr>\n",
       "    <tr>\n",
       "      <th>1</th>\n",
       "      <td>Seblak Instan Ceu Nthien Khas Bandung Rasana N...</td>\n",
       "      <td>15.000</td>\n",
       "      <td>Central Seblak Nusantara</td>\n",
       "      <td>Tangerang Selatan</td>\n",
       "      <td>1000</td>\n",
       "      <td>4.9</td>\n",
       "    </tr>\n",
       "    <tr>\n",
       "      <th>2</th>\n",
       "      <td>SEBLAK INSTANT TERMURAH</td>\n",
       "      <td>3.999</td>\n",
       "      <td>Pusat Cuankie &amp; Cemilan Frozen</td>\n",
       "      <td>Jakarta Timur</td>\n",
       "      <td>10000</td>\n",
       "      <td>4.8</td>\n",
       "    </tr>\n",
       "    <tr>\n",
       "      <th>3</th>\n",
       "      <td>seblak instant sajodo snak</td>\n",
       "      <td>19.000</td>\n",
       "      <td>hikmah berkah jaya</td>\n",
       "      <td>Jakarta Barat</td>\n",
       "      <td>750</td>\n",
       "      <td>4.8</td>\n",
       "    </tr>\n",
       "    <tr>\n",
       "      <th>4</th>\n",
       "      <td>SEBLAK VIRAL - SEBLAK INSTANT - SEBLAK RAFAEL ...</td>\n",
       "      <td>8.880</td>\n",
       "      <td>FARADHIFY STORE</td>\n",
       "      <td>Bekasi</td>\n",
       "      <td>100</td>\n",
       "      <td>4.8</td>\n",
       "    </tr>\n",
       "    <tr>\n",
       "      <th>...</th>\n",
       "      <td>...</td>\n",
       "      <td>...</td>\n",
       "      <td>...</td>\n",
       "      <td>...</td>\n",
       "      <td>...</td>\n",
       "      <td>...</td>\n",
       "    </tr>\n",
       "    <tr>\n",
       "      <th>280</th>\n",
       "      <td>KERUPUK SEBLAK 250gr / KRUPUK SEBLAK DAUN JERU...</td>\n",
       "      <td>12.500</td>\n",
       "      <td>Dapur Sehat21</td>\n",
       "      <td>Kab. Bandung</td>\n",
       "      <td>100</td>\n",
       "      <td>4.9</td>\n",
       "    </tr>\n",
       "    <tr>\n",
       "      <th>281</th>\n",
       "      <td>Kerupuk Orange / Kerupuk Seblak 250gr / Kerupu...</td>\n",
       "      <td>7.500</td>\n",
       "      <td>BawangBagus</td>\n",
       "      <td>Tangerang</td>\n",
       "      <td>5</td>\n",
       "      <td>0.0</td>\n",
       "    </tr>\n",
       "    <tr>\n",
       "      <th>282</th>\n",
       "      <td>Seblak kuah instan , Seblak khas garut b</td>\n",
       "      <td>5.000</td>\n",
       "      <td>iwan resistans leather 2</td>\n",
       "      <td>Kab. Garut</td>\n",
       "      <td>500</td>\n",
       "      <td>4.9</td>\n",
       "    </tr>\n",
       "    <tr>\n",
       "      <th>283</th>\n",
       "      <td>Paket seblak sosis untuk 3 porsi</td>\n",
       "      <td>29.000</td>\n",
       "      <td>Tukangsayurmbakyu</td>\n",
       "      <td>Tangerang Selatan</td>\n",
       "      <td>8</td>\n",
       "      <td>5.0</td>\n",
       "    </tr>\n",
       "    <tr>\n",
       "      <th>284</th>\n",
       "      <td>Kerupuk jeblay kiloan 1 kg pedas Kerupuk seblak</td>\n",
       "      <td>35.000</td>\n",
       "      <td>RIKI STORE 97</td>\n",
       "      <td>Kab. Bogor</td>\n",
       "      <td>1</td>\n",
       "      <td>0.0</td>\n",
       "    </tr>\n",
       "  </tbody>\n",
       "</table>\n",
       "<p>78 rows × 6 columns</p>\n",
       "</div>"
      ],
      "text/plain": [
       "                                                  Name   Price  \\\n",
       "0                     Mommy Seblak Basah Instant 100gr  10.000   \n",
       "1    Seblak Instan Ceu Nthien Khas Bandung Rasana N...  15.000   \n",
       "2                              SEBLAK INSTANT TERMURAH   3.999   \n",
       "3                           seblak instant sajodo snak  19.000   \n",
       "4    SEBLAK VIRAL - SEBLAK INSTANT - SEBLAK RAFAEL ...   8.880   \n",
       "..                                                 ...     ...   \n",
       "280  KERUPUK SEBLAK 250gr / KRUPUK SEBLAK DAUN JERU...  12.500   \n",
       "281  Kerupuk Orange / Kerupuk Seblak 250gr / Kerupu...   7.500   \n",
       "282           Seblak kuah instan , Seblak khas garut b   5.000   \n",
       "283                   Paket seblak sosis untuk 3 porsi  29.000   \n",
       "284    Kerupuk jeblay kiloan 1 kg pedas Kerupuk seblak  35.000   \n",
       "\n",
       "                             Seller             Cities  Product sold  \\\n",
       "0                          emmoshop         Kab. Bogor          2000   \n",
       "1          Central Seblak Nusantara  Tangerang Selatan          1000   \n",
       "2    Pusat Cuankie & Cemilan Frozen      Jakarta Timur         10000   \n",
       "3                hikmah berkah jaya      Jakarta Barat           750   \n",
       "4                   FARADHIFY STORE             Bekasi           100   \n",
       "..                              ...                ...           ...   \n",
       "280                   Dapur Sehat21       Kab. Bandung           100   \n",
       "281                     BawangBagus          Tangerang             5   \n",
       "282        iwan resistans leather 2         Kab. Garut           500   \n",
       "283               Tukangsayurmbakyu  Tangerang Selatan             8   \n",
       "284                   RIKI STORE 97         Kab. Bogor             1   \n",
       "\n",
       "     Product rating  \n",
       "0               4.9  \n",
       "1               4.9  \n",
       "2               4.8  \n",
       "3               4.8  \n",
       "4               4.8  \n",
       "..              ...  \n",
       "280             4.9  \n",
       "281             0.0  \n",
       "282             4.9  \n",
       "283             5.0  \n",
       "284             0.0  \n",
       "\n",
       "[78 rows x 6 columns]"
      ]
     },
     "execution_count": 25,
     "metadata": {},
     "output_type": "execute_result"
    }
   ],
   "source": [
    "df"
   ]
  },
  {
   "cell_type": "markdown",
   "metadata": {},
   "source": [
    "Pada bagian ini, kita ingin menentukan berapa potensi minimum serta maksimum dari pendapatan penjualan seblak perbulannya"
   ]
  },
  {
   "cell_type": "code",
   "execution_count": 27,
   "metadata": {},
   "outputs": [
    {
     "data": {
      "text/html": [
       "<div>\n",
       "<style scoped>\n",
       "    .dataframe tbody tr th:only-of-type {\n",
       "        vertical-align: middle;\n",
       "    }\n",
       "\n",
       "    .dataframe tbody tr th {\n",
       "        vertical-align: top;\n",
       "    }\n",
       "\n",
       "    .dataframe thead th {\n",
       "        text-align: right;\n",
       "    }\n",
       "</style>\n",
       "<table border=\"1\" class=\"dataframe\">\n",
       "  <thead>\n",
       "    <tr style=\"text-align: right;\">\n",
       "      <th></th>\n",
       "      <th>Name</th>\n",
       "      <th>Price</th>\n",
       "      <th>Seller</th>\n",
       "      <th>Cities</th>\n",
       "      <th>Product sold</th>\n",
       "      <th>Product rating</th>\n",
       "      <th>Income</th>\n",
       "    </tr>\n",
       "  </thead>\n",
       "  <tbody>\n",
       "    <tr>\n",
       "      <th>0</th>\n",
       "      <td>Mommy Seblak Basah Instant 100gr</td>\n",
       "      <td>10.000</td>\n",
       "      <td>emmoshop</td>\n",
       "      <td>Kab. Bogor</td>\n",
       "      <td>2000</td>\n",
       "      <td>4.9</td>\n",
       "      <td>20000.0</td>\n",
       "    </tr>\n",
       "    <tr>\n",
       "      <th>1</th>\n",
       "      <td>Seblak Instan Ceu Nthien Khas Bandung Rasana N...</td>\n",
       "      <td>15.000</td>\n",
       "      <td>Central Seblak Nusantara</td>\n",
       "      <td>Tangerang Selatan</td>\n",
       "      <td>1000</td>\n",
       "      <td>4.9</td>\n",
       "      <td>15000.0</td>\n",
       "    </tr>\n",
       "    <tr>\n",
       "      <th>2</th>\n",
       "      <td>SEBLAK INSTANT TERMURAH</td>\n",
       "      <td>3.999</td>\n",
       "      <td>Pusat Cuankie &amp; Cemilan Frozen</td>\n",
       "      <td>Jakarta Timur</td>\n",
       "      <td>10000</td>\n",
       "      <td>4.8</td>\n",
       "      <td>39990.0</td>\n",
       "    </tr>\n",
       "    <tr>\n",
       "      <th>3</th>\n",
       "      <td>seblak instant sajodo snak</td>\n",
       "      <td>19.000</td>\n",
       "      <td>hikmah berkah jaya</td>\n",
       "      <td>Jakarta Barat</td>\n",
       "      <td>750</td>\n",
       "      <td>4.8</td>\n",
       "      <td>14250.0</td>\n",
       "    </tr>\n",
       "    <tr>\n",
       "      <th>4</th>\n",
       "      <td>SEBLAK VIRAL - SEBLAK INSTANT - SEBLAK RAFAEL ...</td>\n",
       "      <td>8.880</td>\n",
       "      <td>FARADHIFY STORE</td>\n",
       "      <td>Bekasi</td>\n",
       "      <td>100</td>\n",
       "      <td>4.8</td>\n",
       "      <td>888.0</td>\n",
       "    </tr>\n",
       "    <tr>\n",
       "      <th>...</th>\n",
       "      <td>...</td>\n",
       "      <td>...</td>\n",
       "      <td>...</td>\n",
       "      <td>...</td>\n",
       "      <td>...</td>\n",
       "      <td>...</td>\n",
       "      <td>...</td>\n",
       "    </tr>\n",
       "    <tr>\n",
       "      <th>280</th>\n",
       "      <td>KERUPUK SEBLAK 250gr / KRUPUK SEBLAK DAUN JERU...</td>\n",
       "      <td>12.500</td>\n",
       "      <td>Dapur Sehat21</td>\n",
       "      <td>Kab. Bandung</td>\n",
       "      <td>100</td>\n",
       "      <td>4.9</td>\n",
       "      <td>1250.0</td>\n",
       "    </tr>\n",
       "    <tr>\n",
       "      <th>281</th>\n",
       "      <td>Kerupuk Orange / Kerupuk Seblak 250gr / Kerupu...</td>\n",
       "      <td>7.500</td>\n",
       "      <td>BawangBagus</td>\n",
       "      <td>Tangerang</td>\n",
       "      <td>5</td>\n",
       "      <td>0.0</td>\n",
       "      <td>37.5</td>\n",
       "    </tr>\n",
       "    <tr>\n",
       "      <th>282</th>\n",
       "      <td>Seblak kuah instan , Seblak khas garut b</td>\n",
       "      <td>5.000</td>\n",
       "      <td>iwan resistans leather 2</td>\n",
       "      <td>Kab. Garut</td>\n",
       "      <td>500</td>\n",
       "      <td>4.9</td>\n",
       "      <td>2500.0</td>\n",
       "    </tr>\n",
       "    <tr>\n",
       "      <th>283</th>\n",
       "      <td>Paket seblak sosis untuk 3 porsi</td>\n",
       "      <td>29.000</td>\n",
       "      <td>Tukangsayurmbakyu</td>\n",
       "      <td>Tangerang Selatan</td>\n",
       "      <td>8</td>\n",
       "      <td>5.0</td>\n",
       "      <td>232.0</td>\n",
       "    </tr>\n",
       "    <tr>\n",
       "      <th>284</th>\n",
       "      <td>Kerupuk jeblay kiloan 1 kg pedas Kerupuk seblak</td>\n",
       "      <td>35.000</td>\n",
       "      <td>RIKI STORE 97</td>\n",
       "      <td>Kab. Bogor</td>\n",
       "      <td>1</td>\n",
       "      <td>0.0</td>\n",
       "      <td>35.0</td>\n",
       "    </tr>\n",
       "  </tbody>\n",
       "</table>\n",
       "<p>78 rows × 7 columns</p>\n",
       "</div>"
      ],
      "text/plain": [
       "                                                  Name   Price  \\\n",
       "0                     Mommy Seblak Basah Instant 100gr  10.000   \n",
       "1    Seblak Instan Ceu Nthien Khas Bandung Rasana N...  15.000   \n",
       "2                              SEBLAK INSTANT TERMURAH   3.999   \n",
       "3                           seblak instant sajodo snak  19.000   \n",
       "4    SEBLAK VIRAL - SEBLAK INSTANT - SEBLAK RAFAEL ...   8.880   \n",
       "..                                                 ...     ...   \n",
       "280  KERUPUK SEBLAK 250gr / KRUPUK SEBLAK DAUN JERU...  12.500   \n",
       "281  Kerupuk Orange / Kerupuk Seblak 250gr / Kerupu...   7.500   \n",
       "282           Seblak kuah instan , Seblak khas garut b   5.000   \n",
       "283                   Paket seblak sosis untuk 3 porsi  29.000   \n",
       "284    Kerupuk jeblay kiloan 1 kg pedas Kerupuk seblak  35.000   \n",
       "\n",
       "                             Seller             Cities  Product sold  \\\n",
       "0                          emmoshop         Kab. Bogor          2000   \n",
       "1          Central Seblak Nusantara  Tangerang Selatan          1000   \n",
       "2    Pusat Cuankie & Cemilan Frozen      Jakarta Timur         10000   \n",
       "3                hikmah berkah jaya      Jakarta Barat           750   \n",
       "4                   FARADHIFY STORE             Bekasi           100   \n",
       "..                              ...                ...           ...   \n",
       "280                   Dapur Sehat21       Kab. Bandung           100   \n",
       "281                     BawangBagus          Tangerang             5   \n",
       "282        iwan resistans leather 2         Kab. Garut           500   \n",
       "283               Tukangsayurmbakyu  Tangerang Selatan             8   \n",
       "284                   RIKI STORE 97         Kab. Bogor             1   \n",
       "\n",
       "     Product rating   Income  \n",
       "0               4.9  20000.0  \n",
       "1               4.9  15000.0  \n",
       "2               4.8  39990.0  \n",
       "3               4.8  14250.0  \n",
       "4               4.8    888.0  \n",
       "..              ...      ...  \n",
       "280             4.9   1250.0  \n",
       "281             0.0     37.5  \n",
       "282             4.9   2500.0  \n",
       "283             5.0    232.0  \n",
       "284             0.0     35.0  \n",
       "\n",
       "[78 rows x 7 columns]"
      ]
     },
     "execution_count": 27,
     "metadata": {},
     "output_type": "execute_result"
    }
   ],
   "source": [
    "#Rumus untuk membuat column baru yaitu column income atau pendapatan\n",
    "df['Income']= df['Price'] * df['Product sold']\n",
    "df"
   ]
  },
  {
   "cell_type": "code",
   "execution_count": 35,
   "metadata": {},
   "outputs": [
    {
     "name": "stdout",
     "output_type": "stream",
     "text": [
      "Lower Limit: 3006.6423818235107\n",
      "Upper Limit: 19849.872951509824\n"
     ]
    }
   ],
   "source": [
    "#Rumus confidence interval untuk menentukan potensi minimal serta maksimal penjualan di column Income\n",
    "std = df['Income'].std()\n",
    "N = len(df)\n",
    "low, up = stats.norm.interval(0.95,loc=df['Income'].mean(),scale=std/np.sqrt(N))\n",
    "print('Lower Limit:',low)\n",
    "print('Upper Limit:',up)"
   ]
  },
  {
   "cell_type": "markdown",
   "metadata": {},
   "source": [
    "Dari hasil ini, dapat dilihat berdasarkan kalkulasi data bahwa potensi minimum penghasilan adalah sekitar 3 juta rupiah sementara maksimal penghasilan sekitar 19 juta rupiah."
   ]
  },
  {
   "cell_type": "markdown",
   "metadata": {},
   "source": [
    "Dalam bagian ini, program dibuat untuk menentukan apakah harga seblak di jabodetabek sama dengan harga seblak diluar jabodetabek apa lebih mahal berhubung suplly di luar daerah jabodetabek biasanya lebih murah.\n",
    "\n",
    "\n",
    "Maka dibuat lah 2 hypothesis untuk menemukan jawaban dari pertanyaan diatas\n",
    "\n",
    "H0: Harga barang di Jabodetabek dengan harga di luar jabodetabek tidak ada perbedaan\n",
    "\n",
    "H1: Harga barang di Jabodetabek dengan harga di luar Jabodetabek memiliki perbedaan yang besar"
   ]
  },
  {
   "cell_type": "code",
   "execution_count": 37,
   "metadata": {},
   "outputs": [
    {
     "data": {
      "text/plain": [
       "array(['Kab. Bogor', 'Tangerang Selatan', 'Jakarta Timur',\n",
       "       'Jakarta Barat', 'Bekasi', 'Surakarta', 'Kab. Bekasi', 'Surabaya',\n",
       "       'Jakarta Selatan', 'Bandung', 'Jakarta Pusat', 'Kab. Garut',\n",
       "       'Depok', 'Kab. Bantul', 'Kab. Bandung', 'Sukabumi', 'Tangerang',\n",
       "       'Kab. Tasikmalaya', 'Kab. Tangerang', 'Semarang',\n",
       "       'Kab. Bandung Barat', 'Denpasar', 'Cimahi'], dtype=object)"
      ]
     },
     "execution_count": 37,
     "metadata": {},
     "output_type": "execute_result"
    }
   ],
   "source": [
    "df['Cities'].unique()"
   ]
  },
  {
   "cell_type": "code",
   "execution_count": 38,
   "metadata": {},
   "outputs": [],
   "source": [
    "#Rumus untuk menentukan Kota-kota yang termasuk dalam wilayah jabodetabek\n",
    "Kota = ['Tangerang Selatan', 'Jakarta Selatan', 'Kab. Bogor', 'Jakarta Timur', 'Jakarta Barat', 'Bekasi','Kab. Bekasi', 'Tangerang', 'Kab. Tangerang', 'Jakarta Pusat', 'Depok']\n",
    "#Rumus untuk membuat database yang hanya berisi kota di Jabodetabek\n",
    "Jabodetabek = df[df['Cities'].isin(Kota)]"
   ]
  },
  {
   "cell_type": "code",
   "execution_count": 39,
   "metadata": {},
   "outputs": [
    {
     "data": {
      "text/html": [
       "<div>\n",
       "<style scoped>\n",
       "    .dataframe tbody tr th:only-of-type {\n",
       "        vertical-align: middle;\n",
       "    }\n",
       "\n",
       "    .dataframe tbody tr th {\n",
       "        vertical-align: top;\n",
       "    }\n",
       "\n",
       "    .dataframe thead th {\n",
       "        text-align: right;\n",
       "    }\n",
       "</style>\n",
       "<table border=\"1\" class=\"dataframe\">\n",
       "  <thead>\n",
       "    <tr style=\"text-align: right;\">\n",
       "      <th></th>\n",
       "      <th>Name</th>\n",
       "      <th>Price</th>\n",
       "      <th>Seller</th>\n",
       "      <th>Cities</th>\n",
       "      <th>Product sold</th>\n",
       "      <th>Product rating</th>\n",
       "      <th>Income</th>\n",
       "    </tr>\n",
       "  </thead>\n",
       "  <tbody>\n",
       "    <tr>\n",
       "      <th>0</th>\n",
       "      <td>Mommy Seblak Basah Instant 100gr</td>\n",
       "      <td>10.000</td>\n",
       "      <td>emmoshop</td>\n",
       "      <td>Kab. Bogor</td>\n",
       "      <td>2000</td>\n",
       "      <td>4.9</td>\n",
       "      <td>20000.0</td>\n",
       "    </tr>\n",
       "    <tr>\n",
       "      <th>1</th>\n",
       "      <td>Seblak Instan Ceu Nthien Khas Bandung Rasana N...</td>\n",
       "      <td>15.000</td>\n",
       "      <td>Central Seblak Nusantara</td>\n",
       "      <td>Tangerang Selatan</td>\n",
       "      <td>1000</td>\n",
       "      <td>4.9</td>\n",
       "      <td>15000.0</td>\n",
       "    </tr>\n",
       "    <tr>\n",
       "      <th>2</th>\n",
       "      <td>SEBLAK INSTANT TERMURAH</td>\n",
       "      <td>3.999</td>\n",
       "      <td>Pusat Cuankie &amp; Cemilan Frozen</td>\n",
       "      <td>Jakarta Timur</td>\n",
       "      <td>10000</td>\n",
       "      <td>4.8</td>\n",
       "      <td>39990.0</td>\n",
       "    </tr>\n",
       "    <tr>\n",
       "      <th>3</th>\n",
       "      <td>seblak instant sajodo snak</td>\n",
       "      <td>19.000</td>\n",
       "      <td>hikmah berkah jaya</td>\n",
       "      <td>Jakarta Barat</td>\n",
       "      <td>750</td>\n",
       "      <td>4.8</td>\n",
       "      <td>14250.0</td>\n",
       "    </tr>\n",
       "    <tr>\n",
       "      <th>4</th>\n",
       "      <td>SEBLAK VIRAL - SEBLAK INSTANT - SEBLAK RAFAEL ...</td>\n",
       "      <td>8.880</td>\n",
       "      <td>FARADHIFY STORE</td>\n",
       "      <td>Bekasi</td>\n",
       "      <td>100</td>\n",
       "      <td>4.8</td>\n",
       "      <td>888.0</td>\n",
       "    </tr>\n",
       "  </tbody>\n",
       "</table>\n",
       "</div>"
      ],
      "text/plain": [
       "                                                Name   Price  \\\n",
       "0                   Mommy Seblak Basah Instant 100gr  10.000   \n",
       "1  Seblak Instan Ceu Nthien Khas Bandung Rasana N...  15.000   \n",
       "2                            SEBLAK INSTANT TERMURAH   3.999   \n",
       "3                         seblak instant sajodo snak  19.000   \n",
       "4  SEBLAK VIRAL - SEBLAK INSTANT - SEBLAK RAFAEL ...   8.880   \n",
       "\n",
       "                           Seller             Cities  Product sold  \\\n",
       "0                        emmoshop         Kab. Bogor          2000   \n",
       "1        Central Seblak Nusantara  Tangerang Selatan          1000   \n",
       "2  Pusat Cuankie & Cemilan Frozen      Jakarta Timur         10000   \n",
       "3              hikmah berkah jaya      Jakarta Barat           750   \n",
       "4                 FARADHIFY STORE             Bekasi           100   \n",
       "\n",
       "   Product rating   Income  \n",
       "0             4.9  20000.0  \n",
       "1             4.9  15000.0  \n",
       "2             4.8  39990.0  \n",
       "3             4.8  14250.0  \n",
       "4             4.8    888.0  "
      ]
     },
     "execution_count": 39,
     "metadata": {},
     "output_type": "execute_result"
    }
   ],
   "source": [
    "Jabodetabek.head()"
   ]
  },
  {
   "cell_type": "code",
   "execution_count": null,
   "metadata": {},
   "outputs": [],
   "source": [
    "#Rumus untuk membuat database yang hanya berisi kota diluar Jabodetabek\n",
    "Luar_Jabodetabek = df[~df['Cities'].isin(Kota)]"
   ]
  },
  {
   "cell_type": "code",
   "execution_count": 41,
   "metadata": {},
   "outputs": [
    {
     "data": {
      "text/html": [
       "<div>\n",
       "<style scoped>\n",
       "    .dataframe tbody tr th:only-of-type {\n",
       "        vertical-align: middle;\n",
       "    }\n",
       "\n",
       "    .dataframe tbody tr th {\n",
       "        vertical-align: top;\n",
       "    }\n",
       "\n",
       "    .dataframe thead th {\n",
       "        text-align: right;\n",
       "    }\n",
       "</style>\n",
       "<table border=\"1\" class=\"dataframe\">\n",
       "  <thead>\n",
       "    <tr style=\"text-align: right;\">\n",
       "      <th></th>\n",
       "      <th>Name</th>\n",
       "      <th>Price</th>\n",
       "      <th>Seller</th>\n",
       "      <th>Cities</th>\n",
       "      <th>Product sold</th>\n",
       "      <th>Product rating</th>\n",
       "      <th>Income</th>\n",
       "    </tr>\n",
       "  </thead>\n",
       "  <tbody>\n",
       "    <tr>\n",
       "      <th>5</th>\n",
       "      <td>SEBRING KRUPUK KERUPUK SEBLAK KERING PEDAS DAU...</td>\n",
       "      <td>16.000</td>\n",
       "      <td>Aydaa Snack</td>\n",
       "      <td>Surakarta</td>\n",
       "      <td>40</td>\n",
       "      <td>4.9</td>\n",
       "      <td>640.0</td>\n",
       "    </tr>\n",
       "    <tr>\n",
       "      <th>8</th>\n",
       "      <td>GURILEM MINI 1KG Siomay Kering Toping Baso Aci...</td>\n",
       "      <td>29.999</td>\n",
       "      <td>Pedas Gilaa</td>\n",
       "      <td>Surabaya</td>\n",
       "      <td>500</td>\n",
       "      <td>4.9</td>\n",
       "      <td>14999.5</td>\n",
       "    </tr>\n",
       "    <tr>\n",
       "      <th>17</th>\n",
       "      <td>Kerupuk Aci Mawar | Kerupuk Mawar Putih | Sebl...</td>\n",
       "      <td>7.999</td>\n",
       "      <td>Toko NRV Plastik dan Bahan Kue</td>\n",
       "      <td>Bandung</td>\n",
       "      <td>100</td>\n",
       "      <td>5.0</td>\n",
       "      <td>799.9</td>\n",
       "    </tr>\n",
       "    <tr>\n",
       "      <th>23</th>\n",
       "      <td>Seblak Instan Komplit Pedas Gurih Nikmat</td>\n",
       "      <td>5.999</td>\n",
       "      <td>Baso Aci Ayang</td>\n",
       "      <td>Kab. Garut</td>\n",
       "      <td>2000</td>\n",
       "      <td>4.9</td>\n",
       "      <td>11998.0</td>\n",
       "    </tr>\n",
       "    <tr>\n",
       "      <th>76</th>\n",
       "      <td>Seblak Instan Sehati</td>\n",
       "      <td>13.000</td>\n",
       "      <td>Official Kartika Sari</td>\n",
       "      <td>Bandung</td>\n",
       "      <td>500</td>\n",
       "      <td>5.0</td>\n",
       "      <td>6500.0</td>\n",
       "    </tr>\n",
       "  </tbody>\n",
       "</table>\n",
       "</div>"
      ],
      "text/plain": [
       "                                                 Name   Price  \\\n",
       "5   SEBRING KRUPUK KERUPUK SEBLAK KERING PEDAS DAU...  16.000   \n",
       "8   GURILEM MINI 1KG Siomay Kering Toping Baso Aci...  29.999   \n",
       "17  Kerupuk Aci Mawar | Kerupuk Mawar Putih | Sebl...   7.999   \n",
       "23           Seblak Instan Komplit Pedas Gurih Nikmat   5.999   \n",
       "76                               Seblak Instan Sehati  13.000   \n",
       "\n",
       "                            Seller      Cities  Product sold  Product rating  \\\n",
       "5                      Aydaa Snack   Surakarta            40             4.9   \n",
       "8                      Pedas Gilaa    Surabaya           500             4.9   \n",
       "17  Toko NRV Plastik dan Bahan Kue     Bandung           100             5.0   \n",
       "23                  Baso Aci Ayang  Kab. Garut          2000             4.9   \n",
       "76           Official Kartika Sari     Bandung           500             5.0   \n",
       "\n",
       "     Income  \n",
       "5     640.0  \n",
       "8   14999.5  \n",
       "17    799.9  \n",
       "23  11998.0  \n",
       "76   6500.0  "
      ]
     },
     "execution_count": 41,
     "metadata": {},
     "output_type": "execute_result"
    }
   ],
   "source": [
    "Luar_Jabodetabek.head()"
   ]
  },
  {
   "cell_type": "code",
   "execution_count": 42,
   "metadata": {},
   "outputs": [
    {
     "name": "stdout",
     "output_type": "stream",
     "text": [
      "T-Statistics: 0.709712833012045\n",
      "P Value: 0.4800540824016609\n"
     ]
    }
   ],
   "source": [
    "#Rumus untuk menghitung P value serta T statistik diantara harga barang di Jabodetabek dan di luar Jabodetabek\n",
    "t_stat, p_val =stats.ttest_ind(Jabodetabek['Price'], Luar_Jabodetabek['Price'])\n",
    "\n",
    "print('T-Statistics:', t_stat)\n",
    "print('P Value:', p_val)"
   ]
  },
  {
   "cell_type": "markdown",
   "metadata": {},
   "source": [
    "Dari hasil data ini, bisa di ambil kesimpulan bahwa Harga barang di Jabodetabek dan diluar Jabodetabek tidak memiliki perbedaan yang signifikan karena dari hasil P value yang berada diatas 0.05 maka dari itu H0 diterima"
   ]
  },
  {
   "cell_type": "markdown",
   "metadata": {},
   "source": [
    "Pada bagian ini, kita ingin menemukan apakah pelanggan cenderung lebih suka produk dengan harga murah atau tidak?\n",
    "\n",
    "Untuk mengetahui jawaban pertanyaan tersebut kita menentukan hypothesis yaitu:\n",
    "\n",
    "H0: Harga barang yang lebih murah tidak memiliki pengaruh terhadap total barang yang terjual\n",
    "\n",
    "H1: Harga barang yang lebih murah memiliki pengaruh terhadap total barang yang terjual"
   ]
  },
  {
   "cell_type": "code",
   "execution_count": 43,
   "metadata": {},
   "outputs": [],
   "source": [
    "#Rumus untuk menghitung korelasi antara harga dan barang terjual\n",
    "corr_r, pval_p = stats.pearsonr(df['Price'], df['Product sold'])"
   ]
  },
  {
   "cell_type": "code",
   "execution_count": 54,
   "metadata": {},
   "outputs": [
    {
     "name": "stdout",
     "output_type": "stream",
     "text": [
      "r-correlation: -0.04, p-value: 0.7375020590218542\n"
     ]
    }
   ],
   "source": [
    "print(f\"r-correlation: {corr_r:.2f}, p-value: {pval_p}\")"
   ]
  },
  {
   "cell_type": "markdown",
   "metadata": {},
   "source": [
    "Berdasarkan hasil tersebut, dapat ditemukan bahwa Harga tidak memiliki korelasi yang signifikan dengan total barang terjual dikarenakan hasil P-Value yang berada diatas 0.05 maka dari itu H0 diterima"
   ]
  },
  {
   "cell_type": "markdown",
   "metadata": {},
   "source": [
    "# Kesimpulan"
   ]
  },
  {
   "cell_type": "markdown",
   "metadata": {},
   "source": [
    "Berdasarkan hasil analisis data, serta target dari SMART Framework. untuk mencapai hasil penjualan 50 seblak perbulan itu sangat memungkinkan median produk terjual berada pada nilai 80 produk terjual serta modus berada dalam nilai 100, target bisa tercapai bahkan terlampauai asalkan operasi promosi juga berjalan dengan baik. Setelah itu dalam rangka mencari supplier, lokasi tidak terlalu berpengaruh besar dikarenakan harga barang yang tidak berbeda diantara daerah Jabodetabek dengan diluar Jabodetabek jadi masih memungkinkan untuk menemukan supplier daerah Jabodetabek dengan harga yang tidak tinggi dan serta bermanfaat karena mengurangi ongkir dari lokasi yang lebih dekat.\n",
    "\n",
    "Dalam penentuan harga juga ditemukan berdasarkan analisis bahwa harga yang murah tidak menjamin penjualan produk yang lebih banyak maka dari itu kita bisa menentukan harga produk sekitar harga rata-rata atau bahkan lebih lalu berdasarkan perhitungan data, ditemukan juga bahwa potensi pendapatan minimum berada sekitar dinilai 3 juta maka dari itu dengan harga yang menengah atau tinggi untuk kedepannya. \n",
    "\n",
    "Dapat disimpulkan bahwa usaha seblak merupakan usaha yang memiliki potensi besar dikarenakan harga barang yang murah sehingga memungkinkan untuk usaha dropshipping untuk penghasilan tambahan dan dengan goal yang ditentukan melalu SMART serta data-data yang tersedia, goal tersebut sangat memungkinkan untuk dicapai dalam kurun waktu 3 bulan dan operasi penjualan seblak pun bisa berjalan dengan lancar dan menguntungkan"
   ]
  }
 ],
 "metadata": {
  "kernelspec": {
   "display_name": "base",
   "language": "python",
   "name": "python3"
  },
  "language_info": {
   "codemirror_mode": {
    "name": "ipython",
    "version": 3
   },
   "file_extension": ".py",
   "mimetype": "text/x-python",
   "name": "python",
   "nbconvert_exporter": "python",
   "pygments_lexer": "ipython3",
   "version": "3.9.17"
  },
  "orig_nbformat": 4
 },
 "nbformat": 4,
 "nbformat_minor": 2
}
